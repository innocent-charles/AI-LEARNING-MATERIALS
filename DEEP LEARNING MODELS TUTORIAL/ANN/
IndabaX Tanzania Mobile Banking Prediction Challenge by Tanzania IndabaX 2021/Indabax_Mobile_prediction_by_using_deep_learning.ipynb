{
  "nbformat": 4,
  "nbformat_minor": 0,
  "metadata": {
    "colab": {
      "name": "Indabax_Mobile_prediction_by_using_deep_learning.ipynb",
      "provenance": [],
      "collapsed_sections": []
    },
    "kernelspec": {
      "name": "python3",
      "display_name": "Python 3"
    },
    "language_info": {
      "name": "python"
    },
    "accelerator": "GPU"
  },
  "cells": [
    {
      "cell_type": "code",
      "metadata": {
        "colab": {
          "base_uri": "https://localhost:8080/"
        },
        "id": "6qd21keoV_im",
        "outputId": "9cf71941-f835-494a-aa59-b461f2b594c0"
      },
      "source": [
        "from google.colab import drive \n",
        "drive.mount(\"/content/drive\")"
      ],
      "execution_count": 138,
      "outputs": [
        {
          "output_type": "stream",
          "name": "stdout",
          "text": [
            "Drive already mounted at /content/drive; to attempt to forcibly remount, call drive.mount(\"/content/drive\", force_remount=True).\n"
          ]
        }
      ]
    },
    {
      "cell_type": "code",
      "metadata": {
        "id": "-plMmHV2WQdc"
      },
      "source": [
        "import pandas as pd \n",
        "import numpy as np\n",
        "import matplotlib.pyplot as plt\n",
        "import seaborn as sns \n"
      ],
      "execution_count": 139,
      "outputs": []
    },
    {
      "cell_type": "code",
      "metadata": {
        "id": "9ntlsP5VWiug"
      },
      "source": [
        "train=pd.read_csv(\"/content/drive/MyDrive/ IndabaX Tanzania Mobile Banking Prediction Challenge by Tanzania IndabaX 2021/Train.csv\")\n",
        "test=pd.read_csv(\"/content/drive/MyDrive/ IndabaX Tanzania Mobile Banking Prediction Challenge by Tanzania IndabaX 2021/Test.csv\")\n",
        "ss=pd.read_csv(\"/content/drive/MyDrive/ IndabaX Tanzania Mobile Banking Prediction Challenge by Tanzania IndabaX 2021/SampleSubmission.csv\")\n"
      ],
      "execution_count": 140,
      "outputs": []
    },
    {
      "cell_type": "code",
      "metadata": {
        "id": "271tW0FUWzBX"
      },
      "source": [
        "vd=pd.read_csv(\"/content/drive/MyDrive/ IndabaX Tanzania Mobile Banking Prediction Challenge by Tanzania IndabaX 2021/VariableDefinitions.csv\")\n"
      ],
      "execution_count": 141,
      "outputs": []
    },
    {
      "cell_type": "code",
      "metadata": {
        "colab": {
          "base_uri": "https://localhost:8080/",
          "height": 224
        },
        "id": "f9o-ZFDwW5dH",
        "outputId": "3c3acd87-9ad4-497b-c614-c790d34ee45b"
      },
      "source": [
        "pd.set_option(\"display.max_columns\",70000)\n",
        "pd.set_option(\"display.max_rows\",None)\n",
        "pd.set_option(\"display.width\",90000)\n",
        "train.head()"
      ],
      "execution_count": 142,
      "outputs": [
        {
          "output_type": "execute_result",
          "data": {
            "text/html": [
              "<div>\n",
              "<style scoped>\n",
              "    .dataframe tbody tr th:only-of-type {\n",
              "        vertical-align: middle;\n",
              "    }\n",
              "\n",
              "    .dataframe tbody tr th {\n",
              "        vertical-align: top;\n",
              "    }\n",
              "\n",
              "    .dataframe thead th {\n",
              "        text-align: right;\n",
              "    }\n",
              "</style>\n",
              "<table border=\"1\" class=\"dataframe\">\n",
              "  <thead>\n",
              "    <tr style=\"text-align: right;\">\n",
              "      <th></th>\n",
              "      <th>ID</th>\n",
              "      <th>country_code</th>\n",
              "      <th>region</th>\n",
              "      <th>age</th>\n",
              "      <th>FQ1</th>\n",
              "      <th>FQ2</th>\n",
              "      <th>FQ3</th>\n",
              "      <th>FQ4</th>\n",
              "      <th>FQ5</th>\n",
              "      <th>FQ6</th>\n",
              "      <th>FQ7</th>\n",
              "      <th>FQ8</th>\n",
              "      <th>FQ9</th>\n",
              "      <th>FQ10</th>\n",
              "      <th>FQ11</th>\n",
              "      <th>FQ12</th>\n",
              "      <th>FQ13</th>\n",
              "      <th>FQ14</th>\n",
              "      <th>FQ15</th>\n",
              "      <th>FQ16</th>\n",
              "      <th>FQ17</th>\n",
              "      <th>FQ18</th>\n",
              "      <th>FQ19</th>\n",
              "      <th>FQ20</th>\n",
              "      <th>FQ21</th>\n",
              "      <th>FQ22</th>\n",
              "      <th>FQ23</th>\n",
              "      <th>FQ24</th>\n",
              "      <th>FQ35</th>\n",
              "      <th>FQ36</th>\n",
              "      <th>FQ25</th>\n",
              "      <th>FQ26</th>\n",
              "      <th>FQ27</th>\n",
              "      <th>FQ28</th>\n",
              "      <th>FQ29</th>\n",
              "      <th>FQ30</th>\n",
              "      <th>FQ31</th>\n",
              "      <th>FQ32</th>\n",
              "      <th>FQ33</th>\n",
              "      <th>FQ34</th>\n",
              "      <th>FQ37</th>\n",
              "      <th>Target</th>\n",
              "    </tr>\n",
              "  </thead>\n",
              "  <tbody>\n",
              "    <tr>\n",
              "      <th>0</th>\n",
              "      <td>ID_000J8GTZ</td>\n",
              "      <td>1</td>\n",
              "      <td>6</td>\n",
              "      <td>35.0</td>\n",
              "      <td>2</td>\n",
              "      <td>NaN</td>\n",
              "      <td>NaN</td>\n",
              "      <td>2</td>\n",
              "      <td>NaN</td>\n",
              "      <td>NaN</td>\n",
              "      <td>1.0</td>\n",
              "      <td>2</td>\n",
              "      <td>1</td>\n",
              "      <td>1</td>\n",
              "      <td>2.0</td>\n",
              "      <td>2</td>\n",
              "      <td>2</td>\n",
              "      <td>2</td>\n",
              "      <td>2</td>\n",
              "      <td>2</td>\n",
              "      <td>NaN</td>\n",
              "      <td>2</td>\n",
              "      <td>4.0</td>\n",
              "      <td>2.0</td>\n",
              "      <td>1.0</td>\n",
              "      <td>1</td>\n",
              "      <td>2</td>\n",
              "      <td>NaN</td>\n",
              "      <td>1.0</td>\n",
              "      <td>NaN</td>\n",
              "      <td>2</td>\n",
              "      <td>2</td>\n",
              "      <td>NaN</td>\n",
              "      <td>NaN</td>\n",
              "      <td>1.0</td>\n",
              "      <td>NaN</td>\n",
              "      <td>NaN</td>\n",
              "      <td>NaN</td>\n",
              "      <td>1.0</td>\n",
              "      <td>1.0</td>\n",
              "      <td>0</td>\n",
              "      <td>0</td>\n",
              "    </tr>\n",
              "    <tr>\n",
              "      <th>1</th>\n",
              "      <td>ID_000QLXZM</td>\n",
              "      <td>32</td>\n",
              "      <td>7</td>\n",
              "      <td>70.0</td>\n",
              "      <td>2</td>\n",
              "      <td>NaN</td>\n",
              "      <td>NaN</td>\n",
              "      <td>2</td>\n",
              "      <td>NaN</td>\n",
              "      <td>NaN</td>\n",
              "      <td>1.0</td>\n",
              "      <td>2</td>\n",
              "      <td>2</td>\n",
              "      <td>2</td>\n",
              "      <td>2.0</td>\n",
              "      <td>2</td>\n",
              "      <td>2</td>\n",
              "      <td>2</td>\n",
              "      <td>2</td>\n",
              "      <td>2</td>\n",
              "      <td>NaN</td>\n",
              "      <td>1</td>\n",
              "      <td>3.0</td>\n",
              "      <td>2.0</td>\n",
              "      <td>1.0</td>\n",
              "      <td>1</td>\n",
              "      <td>2</td>\n",
              "      <td>NaN</td>\n",
              "      <td>NaN</td>\n",
              "      <td>NaN</td>\n",
              "      <td>1</td>\n",
              "      <td>1</td>\n",
              "      <td>NaN</td>\n",
              "      <td>NaN</td>\n",
              "      <td>2.0</td>\n",
              "      <td>NaN</td>\n",
              "      <td>NaN</td>\n",
              "      <td>NaN</td>\n",
              "      <td>1.0</td>\n",
              "      <td>2.0</td>\n",
              "      <td>0</td>\n",
              "      <td>0</td>\n",
              "    </tr>\n",
              "    <tr>\n",
              "      <th>2</th>\n",
              "      <td>ID_001728I2</td>\n",
              "      <td>71</td>\n",
              "      <td>7</td>\n",
              "      <td>22.0</td>\n",
              "      <td>2</td>\n",
              "      <td>1.0</td>\n",
              "      <td>NaN</td>\n",
              "      <td>2</td>\n",
              "      <td>NaN</td>\n",
              "      <td>NaN</td>\n",
              "      <td>1.0</td>\n",
              "      <td>2</td>\n",
              "      <td>2</td>\n",
              "      <td>2</td>\n",
              "      <td>4.0</td>\n",
              "      <td>2</td>\n",
              "      <td>2</td>\n",
              "      <td>1</td>\n",
              "      <td>2</td>\n",
              "      <td>1</td>\n",
              "      <td>NaN</td>\n",
              "      <td>1</td>\n",
              "      <td>NaN</td>\n",
              "      <td>2.0</td>\n",
              "      <td>2.0</td>\n",
              "      <td>1</td>\n",
              "      <td>2</td>\n",
              "      <td>NaN</td>\n",
              "      <td>NaN</td>\n",
              "      <td>NaN</td>\n",
              "      <td>2</td>\n",
              "      <td>1</td>\n",
              "      <td>NaN</td>\n",
              "      <td>NaN</td>\n",
              "      <td>2.0</td>\n",
              "      <td>NaN</td>\n",
              "      <td>NaN</td>\n",
              "      <td>NaN</td>\n",
              "      <td>2.0</td>\n",
              "      <td>1.0</td>\n",
              "      <td>1</td>\n",
              "      <td>0</td>\n",
              "    </tr>\n",
              "    <tr>\n",
              "      <th>3</th>\n",
              "      <td>ID_001R7IDN</td>\n",
              "      <td>48</td>\n",
              "      <td>3</td>\n",
              "      <td>27.0</td>\n",
              "      <td>1</td>\n",
              "      <td>NaN</td>\n",
              "      <td>NaN</td>\n",
              "      <td>2</td>\n",
              "      <td>NaN</td>\n",
              "      <td>2.0</td>\n",
              "      <td>NaN</td>\n",
              "      <td>2</td>\n",
              "      <td>1</td>\n",
              "      <td>1</td>\n",
              "      <td>2.0</td>\n",
              "      <td>2</td>\n",
              "      <td>2</td>\n",
              "      <td>2</td>\n",
              "      <td>2</td>\n",
              "      <td>2</td>\n",
              "      <td>NaN</td>\n",
              "      <td>1</td>\n",
              "      <td>1.0</td>\n",
              "      <td>1.0</td>\n",
              "      <td>NaN</td>\n",
              "      <td>1</td>\n",
              "      <td>2</td>\n",
              "      <td>NaN</td>\n",
              "      <td>NaN</td>\n",
              "      <td>NaN</td>\n",
              "      <td>2</td>\n",
              "      <td>2</td>\n",
              "      <td>NaN</td>\n",
              "      <td>NaN</td>\n",
              "      <td>NaN</td>\n",
              "      <td>NaN</td>\n",
              "      <td>NaN</td>\n",
              "      <td>2.0</td>\n",
              "      <td>1.0</td>\n",
              "      <td>1.0</td>\n",
              "      <td>1</td>\n",
              "      <td>0</td>\n",
              "    </tr>\n",
              "    <tr>\n",
              "      <th>4</th>\n",
              "      <td>ID_0029QKF8</td>\n",
              "      <td>25</td>\n",
              "      <td>0</td>\n",
              "      <td>79.0</td>\n",
              "      <td>2</td>\n",
              "      <td>NaN</td>\n",
              "      <td>NaN</td>\n",
              "      <td>2</td>\n",
              "      <td>NaN</td>\n",
              "      <td>NaN</td>\n",
              "      <td>NaN</td>\n",
              "      <td>2</td>\n",
              "      <td>2</td>\n",
              "      <td>1</td>\n",
              "      <td>2.0</td>\n",
              "      <td>2</td>\n",
              "      <td>2</td>\n",
              "      <td>2</td>\n",
              "      <td>2</td>\n",
              "      <td>1</td>\n",
              "      <td>NaN</td>\n",
              "      <td>1</td>\n",
              "      <td>NaN</td>\n",
              "      <td>2.0</td>\n",
              "      <td>2.0</td>\n",
              "      <td>1</td>\n",
              "      <td>1</td>\n",
              "      <td>2.0</td>\n",
              "      <td>NaN</td>\n",
              "      <td>1.0</td>\n",
              "      <td>2</td>\n",
              "      <td>2</td>\n",
              "      <td>NaN</td>\n",
              "      <td>NaN</td>\n",
              "      <td>2.0</td>\n",
              "      <td>NaN</td>\n",
              "      <td>NaN</td>\n",
              "      <td>2.0</td>\n",
              "      <td>1.0</td>\n",
              "      <td>1.0</td>\n",
              "      <td>1</td>\n",
              "      <td>0</td>\n",
              "    </tr>\n",
              "  </tbody>\n",
              "</table>\n",
              "</div>"
            ],
            "text/plain": [
              "            ID  country_code  region   age  FQ1  FQ2  FQ3  FQ4  FQ5  FQ6  FQ7  FQ8  FQ9  FQ10  FQ11  FQ12  FQ13  FQ14  FQ15  FQ16  FQ17  FQ18  FQ19  FQ20  FQ21  FQ22  FQ23  FQ24  FQ35  FQ36  FQ25  FQ26  FQ27  FQ28  FQ29  FQ30  FQ31  FQ32  FQ33  FQ34  FQ37  Target\n",
              "0  ID_000J8GTZ             1       6  35.0    2  NaN  NaN    2  NaN  NaN  1.0    2    1     1   2.0     2     2     2     2     2   NaN     2   4.0   2.0   1.0     1     2   NaN   1.0   NaN     2     2   NaN   NaN   1.0   NaN   NaN   NaN   1.0   1.0     0       0\n",
              "1  ID_000QLXZM            32       7  70.0    2  NaN  NaN    2  NaN  NaN  1.0    2    2     2   2.0     2     2     2     2     2   NaN     1   3.0   2.0   1.0     1     2   NaN   NaN   NaN     1     1   NaN   NaN   2.0   NaN   NaN   NaN   1.0   2.0     0       0\n",
              "2  ID_001728I2            71       7  22.0    2  1.0  NaN    2  NaN  NaN  1.0    2    2     2   4.0     2     2     1     2     1   NaN     1   NaN   2.0   2.0     1     2   NaN   NaN   NaN     2     1   NaN   NaN   2.0   NaN   NaN   NaN   2.0   1.0     1       0\n",
              "3  ID_001R7IDN            48       3  27.0    1  NaN  NaN    2  NaN  2.0  NaN    2    1     1   2.0     2     2     2     2     2   NaN     1   1.0   1.0   NaN     1     2   NaN   NaN   NaN     2     2   NaN   NaN   NaN   NaN   NaN   2.0   1.0   1.0     1       0\n",
              "4  ID_0029QKF8            25       0  79.0    2  NaN  NaN    2  NaN  NaN  NaN    2    2     1   2.0     2     2     2     2     1   NaN     1   NaN   2.0   2.0     1     1   2.0   NaN   1.0     2     2   NaN   NaN   2.0   NaN   NaN   2.0   1.0   1.0     1       0"
            ]
          },
          "metadata": {},
          "execution_count": 142
        }
      ]
    },
    {
      "cell_type": "code",
      "metadata": {
        "colab": {
          "base_uri": "https://localhost:8080/"
        },
        "id": "BwJlOO_fXQoE",
        "outputId": "546dc677-11cf-41da-ae22-969c5a0bd32f"
      },
      "source": [
        "train.info()"
      ],
      "execution_count": 143,
      "outputs": [
        {
          "output_type": "stream",
          "name": "stdout",
          "text": [
            "<class 'pandas.core.frame.DataFrame'>\n",
            "RangeIndex: 108446 entries, 0 to 108445\n",
            "Data columns (total 42 columns):\n",
            " #   Column        Non-Null Count   Dtype  \n",
            "---  ------        --------------   -----  \n",
            " 0   ID            108446 non-null  object \n",
            " 1   country_code  108446 non-null  int64  \n",
            " 2   region        108446 non-null  int64  \n",
            " 3   age           108124 non-null  float64\n",
            " 4   FQ1           108446 non-null  int64  \n",
            " 5   FQ2           49124 non-null   float64\n",
            " 6   FQ3           46218 non-null   float64\n",
            " 7   FQ4           108446 non-null  int64  \n",
            " 8   FQ5           21185 non-null   float64\n",
            " 9   FQ6           60659 non-null   float64\n",
            " 10  FQ7           60620 non-null   float64\n",
            " 11  FQ8           108446 non-null  int64  \n",
            " 12  FQ9           108446 non-null  int64  \n",
            " 13  FQ10          108446 non-null  int64  \n",
            " 14  FQ11          83876 non-null   float64\n",
            " 15  FQ12          108446 non-null  int64  \n",
            " 16  FQ13          108446 non-null  int64  \n",
            " 17  FQ14          108446 non-null  int64  \n",
            " 18  FQ15          108446 non-null  int64  \n",
            " 19  FQ16          108446 non-null  int64  \n",
            " 20  FQ17          11347 non-null   float64\n",
            " 21  FQ18          108446 non-null  int64  \n",
            " 22  FQ19          61039 non-null   float64\n",
            " 23  FQ20          83767 non-null   float64\n",
            " 24  FQ21          83811 non-null   float64\n",
            " 25  FQ22          108446 non-null  int64  \n",
            " 26  FQ23          108446 non-null  int64  \n",
            " 27  FQ24          38432 non-null   float64\n",
            " 28  FQ35          25889 non-null   float64\n",
            " 29  FQ36          11483 non-null   float64\n",
            " 30  FQ25          108446 non-null  int64  \n",
            " 31  FQ26          108446 non-null  int64  \n",
            " 32  FQ27          3200 non-null    float64\n",
            " 33  FQ28          1506 non-null    float64\n",
            " 34  FQ29          83912 non-null   float64\n",
            " 35  FQ30          2115 non-null    float64\n",
            " 36  FQ31          869 non-null     float64\n",
            " 37  FQ32          60796 non-null   float64\n",
            " 38  FQ33          108444 non-null  float64\n",
            " 39  FQ34          76652 non-null   float64\n",
            " 40  FQ37          108446 non-null  int64  \n",
            " 41  Target        108446 non-null  int64  \n",
            "dtypes: float64(22), int64(19), object(1)\n",
            "memory usage: 34.7+ MB\n"
          ]
        }
      ]
    },
    {
      "cell_type": "code",
      "metadata": {
        "colab": {
          "base_uri": "https://localhost:8080/"
        },
        "id": "GCvCyAkqXYAf",
        "outputId": "23d70930-8a53-424f-8958-d8366c7d9ac5"
      },
      "source": [
        "train.isnull().sum()"
      ],
      "execution_count": 144,
      "outputs": [
        {
          "output_type": "execute_result",
          "data": {
            "text/plain": [
              "ID                   0\n",
              "country_code         0\n",
              "region               0\n",
              "age                322\n",
              "FQ1                  0\n",
              "FQ2              59322\n",
              "FQ3              62228\n",
              "FQ4                  0\n",
              "FQ5              87261\n",
              "FQ6              47787\n",
              "FQ7              47826\n",
              "FQ8                  0\n",
              "FQ9                  0\n",
              "FQ10                 0\n",
              "FQ11             24570\n",
              "FQ12                 0\n",
              "FQ13                 0\n",
              "FQ14                 0\n",
              "FQ15                 0\n",
              "FQ16                 0\n",
              "FQ17             97099\n",
              "FQ18                 0\n",
              "FQ19             47407\n",
              "FQ20             24679\n",
              "FQ21             24635\n",
              "FQ22                 0\n",
              "FQ23                 0\n",
              "FQ24             70014\n",
              "FQ35             82557\n",
              "FQ36             96963\n",
              "FQ25                 0\n",
              "FQ26                 0\n",
              "FQ27            105246\n",
              "FQ28            106940\n",
              "FQ29             24534\n",
              "FQ30            106331\n",
              "FQ31            107577\n",
              "FQ32             47650\n",
              "FQ33                 2\n",
              "FQ34             31794\n",
              "FQ37                 0\n",
              "Target               0\n",
              "dtype: int64"
            ]
          },
          "metadata": {},
          "execution_count": 144
        }
      ]
    },
    {
      "cell_type": "code",
      "metadata": {
        "colab": {
          "base_uri": "https://localhost:8080/",
          "height": 224
        },
        "id": "6zB06xPQXnRd",
        "outputId": "7a87fd54-d8c0-4357-9476-781cdf3c0fe6"
      },
      "source": [
        "test.head()"
      ],
      "execution_count": 145,
      "outputs": [
        {
          "output_type": "execute_result",
          "data": {
            "text/html": [
              "<div>\n",
              "<style scoped>\n",
              "    .dataframe tbody tr th:only-of-type {\n",
              "        vertical-align: middle;\n",
              "    }\n",
              "\n",
              "    .dataframe tbody tr th {\n",
              "        vertical-align: top;\n",
              "    }\n",
              "\n",
              "    .dataframe thead th {\n",
              "        text-align: right;\n",
              "    }\n",
              "</style>\n",
              "<table border=\"1\" class=\"dataframe\">\n",
              "  <thead>\n",
              "    <tr style=\"text-align: right;\">\n",
              "      <th></th>\n",
              "      <th>ID</th>\n",
              "      <th>country_code</th>\n",
              "      <th>region</th>\n",
              "      <th>age</th>\n",
              "      <th>FQ1</th>\n",
              "      <th>FQ2</th>\n",
              "      <th>FQ3</th>\n",
              "      <th>FQ4</th>\n",
              "      <th>FQ5</th>\n",
              "      <th>FQ6</th>\n",
              "      <th>FQ7</th>\n",
              "      <th>FQ8</th>\n",
              "      <th>FQ9</th>\n",
              "      <th>FQ10</th>\n",
              "      <th>FQ11</th>\n",
              "      <th>FQ12</th>\n",
              "      <th>FQ13</th>\n",
              "      <th>FQ14</th>\n",
              "      <th>FQ15</th>\n",
              "      <th>FQ16</th>\n",
              "      <th>FQ17</th>\n",
              "      <th>FQ18</th>\n",
              "      <th>FQ19</th>\n",
              "      <th>FQ20</th>\n",
              "      <th>FQ21</th>\n",
              "      <th>FQ22</th>\n",
              "      <th>FQ23</th>\n",
              "      <th>FQ24</th>\n",
              "      <th>FQ35</th>\n",
              "      <th>FQ36</th>\n",
              "      <th>FQ25</th>\n",
              "      <th>FQ26</th>\n",
              "      <th>FQ27</th>\n",
              "      <th>FQ28</th>\n",
              "      <th>FQ29</th>\n",
              "      <th>FQ30</th>\n",
              "      <th>FQ31</th>\n",
              "      <th>FQ32</th>\n",
              "      <th>FQ33</th>\n",
              "      <th>FQ34</th>\n",
              "      <th>FQ37</th>\n",
              "    </tr>\n",
              "  </thead>\n",
              "  <tbody>\n",
              "    <tr>\n",
              "      <th>0</th>\n",
              "      <td>ID_000YI58E</td>\n",
              "      <td>39</td>\n",
              "      <td>2</td>\n",
              "      <td>22.0</td>\n",
              "      <td>2</td>\n",
              "      <td>NaN</td>\n",
              "      <td>NaN</td>\n",
              "      <td>2</td>\n",
              "      <td>NaN</td>\n",
              "      <td>1.0</td>\n",
              "      <td>NaN</td>\n",
              "      <td>1</td>\n",
              "      <td>2</td>\n",
              "      <td>2</td>\n",
              "      <td>2.0</td>\n",
              "      <td>2</td>\n",
              "      <td>2</td>\n",
              "      <td>2</td>\n",
              "      <td>1</td>\n",
              "      <td>2</td>\n",
              "      <td>2.0</td>\n",
              "      <td>2</td>\n",
              "      <td>2.0</td>\n",
              "      <td>2.0</td>\n",
              "      <td>NaN</td>\n",
              "      <td>1</td>\n",
              "      <td>1</td>\n",
              "      <td>NaN</td>\n",
              "      <td>2.0</td>\n",
              "      <td>NaN</td>\n",
              "      <td>2</td>\n",
              "      <td>2</td>\n",
              "      <td>NaN</td>\n",
              "      <td>NaN</td>\n",
              "      <td>NaN</td>\n",
              "      <td>NaN</td>\n",
              "      <td>NaN</td>\n",
              "      <td>2.0</td>\n",
              "      <td>1.0</td>\n",
              "      <td>1.0</td>\n",
              "      <td>0</td>\n",
              "    </tr>\n",
              "    <tr>\n",
              "      <th>1</th>\n",
              "      <td>ID_001SP4JF</td>\n",
              "      <td>30</td>\n",
              "      <td>2</td>\n",
              "      <td>62.0</td>\n",
              "      <td>1</td>\n",
              "      <td>NaN</td>\n",
              "      <td>NaN</td>\n",
              "      <td>2</td>\n",
              "      <td>NaN</td>\n",
              "      <td>1.0</td>\n",
              "      <td>1.0</td>\n",
              "      <td>2</td>\n",
              "      <td>1</td>\n",
              "      <td>2</td>\n",
              "      <td>2.0</td>\n",
              "      <td>2</td>\n",
              "      <td>2</td>\n",
              "      <td>2</td>\n",
              "      <td>2</td>\n",
              "      <td>2</td>\n",
              "      <td>NaN</td>\n",
              "      <td>2</td>\n",
              "      <td>NaN</td>\n",
              "      <td>2.0</td>\n",
              "      <td>NaN</td>\n",
              "      <td>1</td>\n",
              "      <td>2</td>\n",
              "      <td>NaN</td>\n",
              "      <td>NaN</td>\n",
              "      <td>NaN</td>\n",
              "      <td>2</td>\n",
              "      <td>2</td>\n",
              "      <td>NaN</td>\n",
              "      <td>NaN</td>\n",
              "      <td>2.0</td>\n",
              "      <td>NaN</td>\n",
              "      <td>1.0</td>\n",
              "      <td>1.0</td>\n",
              "      <td>1.0</td>\n",
              "      <td>1.0</td>\n",
              "      <td>0</td>\n",
              "    </tr>\n",
              "    <tr>\n",
              "      <th>2</th>\n",
              "      <td>ID_001VOF6S</td>\n",
              "      <td>65</td>\n",
              "      <td>4</td>\n",
              "      <td>35.0</td>\n",
              "      <td>2</td>\n",
              "      <td>1.0</td>\n",
              "      <td>NaN</td>\n",
              "      <td>1</td>\n",
              "      <td>1.0</td>\n",
              "      <td>NaN</td>\n",
              "      <td>1.0</td>\n",
              "      <td>2</td>\n",
              "      <td>2</td>\n",
              "      <td>2</td>\n",
              "      <td>NaN</td>\n",
              "      <td>2</td>\n",
              "      <td>2</td>\n",
              "      <td>2</td>\n",
              "      <td>2</td>\n",
              "      <td>2</td>\n",
              "      <td>NaN</td>\n",
              "      <td>1</td>\n",
              "      <td>NaN</td>\n",
              "      <td>NaN</td>\n",
              "      <td>2.0</td>\n",
              "      <td>1</td>\n",
              "      <td>2</td>\n",
              "      <td>NaN</td>\n",
              "      <td>NaN</td>\n",
              "      <td>NaN</td>\n",
              "      <td>2</td>\n",
              "      <td>2</td>\n",
              "      <td>NaN</td>\n",
              "      <td>NaN</td>\n",
              "      <td>NaN</td>\n",
              "      <td>NaN</td>\n",
              "      <td>NaN</td>\n",
              "      <td>NaN</td>\n",
              "      <td>1.0</td>\n",
              "      <td>NaN</td>\n",
              "      <td>0</td>\n",
              "    </tr>\n",
              "    <tr>\n",
              "      <th>3</th>\n",
              "      <td>ID_0030LULG</td>\n",
              "      <td>123</td>\n",
              "      <td>0</td>\n",
              "      <td>24.0</td>\n",
              "      <td>2</td>\n",
              "      <td>1.0</td>\n",
              "      <td>NaN</td>\n",
              "      <td>2</td>\n",
              "      <td>NaN</td>\n",
              "      <td>1.0</td>\n",
              "      <td>1.0</td>\n",
              "      <td>1</td>\n",
              "      <td>2</td>\n",
              "      <td>2</td>\n",
              "      <td>2.0</td>\n",
              "      <td>2</td>\n",
              "      <td>1</td>\n",
              "      <td>2</td>\n",
              "      <td>2</td>\n",
              "      <td>2</td>\n",
              "      <td>NaN</td>\n",
              "      <td>2</td>\n",
              "      <td>1.0</td>\n",
              "      <td>2.0</td>\n",
              "      <td>2.0</td>\n",
              "      <td>2</td>\n",
              "      <td>2</td>\n",
              "      <td>NaN</td>\n",
              "      <td>2.0</td>\n",
              "      <td>NaN</td>\n",
              "      <td>1</td>\n",
              "      <td>2</td>\n",
              "      <td>NaN</td>\n",
              "      <td>NaN</td>\n",
              "      <td>2.0</td>\n",
              "      <td>NaN</td>\n",
              "      <td>NaN</td>\n",
              "      <td>NaN</td>\n",
              "      <td>1.0</td>\n",
              "      <td>1.0</td>\n",
              "      <td>1</td>\n",
              "    </tr>\n",
              "    <tr>\n",
              "      <th>4</th>\n",
              "      <td>ID_0037PZ3R</td>\n",
              "      <td>67</td>\n",
              "      <td>2</td>\n",
              "      <td>25.0</td>\n",
              "      <td>2</td>\n",
              "      <td>NaN</td>\n",
              "      <td>NaN</td>\n",
              "      <td>1</td>\n",
              "      <td>NaN</td>\n",
              "      <td>NaN</td>\n",
              "      <td>2.0</td>\n",
              "      <td>2</td>\n",
              "      <td>1</td>\n",
              "      <td>2</td>\n",
              "      <td>NaN</td>\n",
              "      <td>2</td>\n",
              "      <td>2</td>\n",
              "      <td>2</td>\n",
              "      <td>1</td>\n",
              "      <td>1</td>\n",
              "      <td>NaN</td>\n",
              "      <td>3</td>\n",
              "      <td>NaN</td>\n",
              "      <td>2.0</td>\n",
              "      <td>2.0</td>\n",
              "      <td>1</td>\n",
              "      <td>2</td>\n",
              "      <td>2.0</td>\n",
              "      <td>NaN</td>\n",
              "      <td>NaN</td>\n",
              "      <td>2</td>\n",
              "      <td>2</td>\n",
              "      <td>NaN</td>\n",
              "      <td>NaN</td>\n",
              "      <td>1.0</td>\n",
              "      <td>NaN</td>\n",
              "      <td>NaN</td>\n",
              "      <td>NaN</td>\n",
              "      <td>2.0</td>\n",
              "      <td>1.0</td>\n",
              "      <td>1</td>\n",
              "    </tr>\n",
              "  </tbody>\n",
              "</table>\n",
              "</div>"
            ],
            "text/plain": [
              "            ID  country_code  region   age  FQ1  FQ2  FQ3  FQ4  FQ5  FQ6  FQ7  FQ8  FQ9  FQ10  FQ11  FQ12  FQ13  FQ14  FQ15  FQ16  FQ17  FQ18  FQ19  FQ20  FQ21  FQ22  FQ23  FQ24  FQ35  FQ36  FQ25  FQ26  FQ27  FQ28  FQ29  FQ30  FQ31  FQ32  FQ33  FQ34  FQ37\n",
              "0  ID_000YI58E            39       2  22.0    2  NaN  NaN    2  NaN  1.0  NaN    1    2     2   2.0     2     2     2     1     2   2.0     2   2.0   2.0   NaN     1     1   NaN   2.0   NaN     2     2   NaN   NaN   NaN   NaN   NaN   2.0   1.0   1.0     0\n",
              "1  ID_001SP4JF            30       2  62.0    1  NaN  NaN    2  NaN  1.0  1.0    2    1     2   2.0     2     2     2     2     2   NaN     2   NaN   2.0   NaN     1     2   NaN   NaN   NaN     2     2   NaN   NaN   2.0   NaN   1.0   1.0   1.0   1.0     0\n",
              "2  ID_001VOF6S            65       4  35.0    2  1.0  NaN    1  1.0  NaN  1.0    2    2     2   NaN     2     2     2     2     2   NaN     1   NaN   NaN   2.0     1     2   NaN   NaN   NaN     2     2   NaN   NaN   NaN   NaN   NaN   NaN   1.0   NaN     0\n",
              "3  ID_0030LULG           123       0  24.0    2  1.0  NaN    2  NaN  1.0  1.0    1    2     2   2.0     2     1     2     2     2   NaN     2   1.0   2.0   2.0     2     2   NaN   2.0   NaN     1     2   NaN   NaN   2.0   NaN   NaN   NaN   1.0   1.0     1\n",
              "4  ID_0037PZ3R            67       2  25.0    2  NaN  NaN    1  NaN  NaN  2.0    2    1     2   NaN     2     2     2     1     1   NaN     3   NaN   2.0   2.0     1     2   2.0   NaN   NaN     2     2   NaN   NaN   1.0   NaN   NaN   NaN   2.0   1.0     1"
            ]
          },
          "metadata": {},
          "execution_count": 145
        }
      ]
    },
    {
      "cell_type": "code",
      "metadata": {
        "colab": {
          "base_uri": "https://localhost:8080/"
        },
        "id": "awc49g5lXqel",
        "outputId": "f314da40-92fc-4741-8957-1e7f428cbe9f"
      },
      "source": [
        "test.isnull().sum()"
      ],
      "execution_count": 146,
      "outputs": [
        {
          "output_type": "execute_result",
          "data": {
            "text/plain": [
              "ID                  0\n",
              "country_code        0\n",
              "region              0\n",
              "age               129\n",
              "FQ1                 0\n",
              "FQ2             25676\n",
              "FQ3             26549\n",
              "FQ4                 0\n",
              "FQ5             37564\n",
              "FQ6             20599\n",
              "FQ7             20560\n",
              "FQ8                 0\n",
              "FQ9                 0\n",
              "FQ10                0\n",
              "FQ11            10565\n",
              "FQ12                0\n",
              "FQ13                0\n",
              "FQ14                0\n",
              "FQ15                0\n",
              "FQ16                0\n",
              "FQ17            41599\n",
              "FQ18                0\n",
              "FQ19            20357\n",
              "FQ20            10456\n",
              "FQ21            10500\n",
              "FQ22                0\n",
              "FQ23                0\n",
              "FQ24            29912\n",
              "FQ35            35425\n",
              "FQ36            41577\n",
              "FQ25                0\n",
              "FQ26                0\n",
              "FQ27            45034\n",
              "FQ28            45846\n",
              "FQ29            10601\n",
              "FQ30            45601\n",
              "FQ31            46113\n",
              "FQ32            20477\n",
              "FQ33                0\n",
              "FQ34            13341\n",
              "FQ37                0\n",
              "dtype: int64"
            ]
          },
          "metadata": {},
          "execution_count": 146
        }
      ]
    },
    {
      "cell_type": "code",
      "metadata": {
        "colab": {
          "base_uri": "https://localhost:8080/"
        },
        "id": "rZcz34G-X4pw",
        "outputId": "4246b23a-5907-4362-fe6e-7b0d235674bc"
      },
      "source": [
        "test.info()"
      ],
      "execution_count": 147,
      "outputs": [
        {
          "output_type": "stream",
          "name": "stdout",
          "text": [
            "<class 'pandas.core.frame.DataFrame'>\n",
            "RangeIndex: 46477 entries, 0 to 46476\n",
            "Data columns (total 41 columns):\n",
            " #   Column        Non-Null Count  Dtype  \n",
            "---  ------        --------------  -----  \n",
            " 0   ID            46477 non-null  object \n",
            " 1   country_code  46477 non-null  int64  \n",
            " 2   region        46477 non-null  int64  \n",
            " 3   age           46348 non-null  float64\n",
            " 4   FQ1           46477 non-null  int64  \n",
            " 5   FQ2           20801 non-null  float64\n",
            " 6   FQ3           19928 non-null  float64\n",
            " 7   FQ4           46477 non-null  int64  \n",
            " 8   FQ5           8913 non-null   float64\n",
            " 9   FQ6           25878 non-null  float64\n",
            " 10  FQ7           25917 non-null  float64\n",
            " 11  FQ8           46477 non-null  int64  \n",
            " 12  FQ9           46477 non-null  int64  \n",
            " 13  FQ10          46477 non-null  int64  \n",
            " 14  FQ11          35912 non-null  float64\n",
            " 15  FQ12          46477 non-null  int64  \n",
            " 16  FQ13          46477 non-null  int64  \n",
            " 17  FQ14          46477 non-null  int64  \n",
            " 18  FQ15          46477 non-null  int64  \n",
            " 19  FQ16          46477 non-null  int64  \n",
            " 20  FQ17          4878 non-null   float64\n",
            " 21  FQ18          46477 non-null  int64  \n",
            " 22  FQ19          26120 non-null  float64\n",
            " 23  FQ20          36021 non-null  float64\n",
            " 24  FQ21          35977 non-null  float64\n",
            " 25  FQ22          46477 non-null  int64  \n",
            " 26  FQ23          46477 non-null  int64  \n",
            " 27  FQ24          16565 non-null  float64\n",
            " 28  FQ35          11052 non-null  float64\n",
            " 29  FQ36          4900 non-null   float64\n",
            " 30  FQ25          46477 non-null  int64  \n",
            " 31  FQ26          46477 non-null  int64  \n",
            " 32  FQ27          1443 non-null   float64\n",
            " 33  FQ28          631 non-null    float64\n",
            " 34  FQ29          35876 non-null  float64\n",
            " 35  FQ30          876 non-null    float64\n",
            " 36  FQ31          364 non-null    float64\n",
            " 37  FQ32          26000 non-null  float64\n",
            " 38  FQ33          46477 non-null  float64\n",
            " 39  FQ34          33136 non-null  float64\n",
            " 40  FQ37          46477 non-null  int64  \n",
            "dtypes: float64(22), int64(18), object(1)\n",
            "memory usage: 14.5+ MB\n"
          ]
        }
      ]
    },
    {
      "cell_type": "code",
      "metadata": {
        "colab": {
          "base_uri": "https://localhost:8080/"
        },
        "id": "KE3WCOJPXtMV",
        "outputId": "bc5c0f63-c7ef-4d0b-a8e3-44b8dcc062aa"
      },
      "source": [
        "train.shape,test.shape,ss.shape "
      ],
      "execution_count": 148,
      "outputs": [
        {
          "output_type": "execute_result",
          "data": {
            "text/plain": [
              "((108446, 42), (46477, 41), (46477, 2))"
            ]
          },
          "metadata": {},
          "execution_count": 148
        }
      ]
    },
    {
      "cell_type": "code",
      "metadata": {
        "colab": {
          "base_uri": "https://localhost:8080/",
          "height": 1000
        },
        "id": "VsGBQgE8XxIa",
        "outputId": "0d9e65d0-e7a8-4c76-e3d3-5bc685c17cc4"
      },
      "source": [
        "vd "
      ],
      "execution_count": 149,
      "outputs": [
        {
          "output_type": "execute_result",
          "data": {
            "text/html": [
              "<div>\n",
              "<style scoped>\n",
              "    .dataframe tbody tr th:only-of-type {\n",
              "        vertical-align: middle;\n",
              "    }\n",
              "\n",
              "    .dataframe tbody tr th {\n",
              "        vertical-align: top;\n",
              "    }\n",
              "\n",
              "    .dataframe thead th {\n",
              "        text-align: right;\n",
              "    }\n",
              "</style>\n",
              "<table border=\"1\" class=\"dataframe\">\n",
              "  <thead>\n",
              "    <tr style=\"text-align: right;\">\n",
              "      <th></th>\n",
              "      <th>ID</th>\n",
              "      <th>Person unique/random identification</th>\n",
              "    </tr>\n",
              "  </thead>\n",
              "  <tbody>\n",
              "    <tr>\n",
              "      <th>0</th>\n",
              "      <td>country_code</td>\n",
              "      <td>The country codes</td>\n",
              "    </tr>\n",
              "    <tr>\n",
              "      <th>1</th>\n",
              "      <td>region</td>\n",
              "      <td>Region_codes of a given country,.i.e., South A...</td>\n",
              "    </tr>\n",
              "    <tr>\n",
              "      <th>2</th>\n",
              "      <td>age</td>\n",
              "      <td>Individual age</td>\n",
              "    </tr>\n",
              "    <tr>\n",
              "      <th>3</th>\n",
              "      <td>FQ1</td>\n",
              "      <td>Has ATM/debit card</td>\n",
              "    </tr>\n",
              "    <tr>\n",
              "      <th>4</th>\n",
              "      <td>FQ2</td>\n",
              "      <td>Is the ATM connected to an account with your n...</td>\n",
              "    </tr>\n",
              "    <tr>\n",
              "      <th>5</th>\n",
              "      <td>FQ3</td>\n",
              "      <td>Purchased with the ATM</td>\n",
              "    </tr>\n",
              "    <tr>\n",
              "      <th>6</th>\n",
              "      <td>FQ4</td>\n",
              "      <td>Has a credit card</td>\n",
              "    </tr>\n",
              "    <tr>\n",
              "      <th>7</th>\n",
              "      <td>FQ5</td>\n",
              "      <td>Used the credit card in 12 months</td>\n",
              "    </tr>\n",
              "    <tr>\n",
              "      <th>8</th>\n",
              "      <td>FQ6</td>\n",
              "      <td>Money deposits to a bank account in the last 1...</td>\n",
              "    </tr>\n",
              "    <tr>\n",
              "      <th>9</th>\n",
              "      <td>FQ7</td>\n",
              "      <td>Money withdrawals from a bank account in the l...</td>\n",
              "    </tr>\n",
              "    <tr>\n",
              "      <th>10</th>\n",
              "      <td>FQ7</td>\n",
              "      <td>Savings in the last 12 months to start a busin...</td>\n",
              "    </tr>\n",
              "    <tr>\n",
              "      <th>11</th>\n",
              "      <td>FQ9</td>\n",
              "      <td>Savings in the last 12 months for old age</td>\n",
              "    </tr>\n",
              "    <tr>\n",
              "      <th>12</th>\n",
              "      <td>FQ10</td>\n",
              "      <td>Saved the money at a bank/financial institutions</td>\n",
              "    </tr>\n",
              "    <tr>\n",
              "      <th>13</th>\n",
              "      <td>FQ11</td>\n",
              "      <td>Save the money at groups/clubs of any informal...</td>\n",
              "    </tr>\n",
              "    <tr>\n",
              "      <th>14</th>\n",
              "      <td>FQ12</td>\n",
              "      <td>Has a loan from formal financial institutions ...</td>\n",
              "    </tr>\n",
              "    <tr>\n",
              "      <th>15</th>\n",
              "      <td>FQ13</td>\n",
              "      <td>Borrowed money for health/medical purposes in ...</td>\n",
              "    </tr>\n",
              "    <tr>\n",
              "      <th>16</th>\n",
              "      <td>FQ14</td>\n",
              "      <td>Borrowed money to start/grow business or farm</td>\n",
              "    </tr>\n",
              "    <tr>\n",
              "      <th>17</th>\n",
              "      <td>FQ15</td>\n",
              "      <td>Borrowed money from formal financial instituti...</td>\n",
              "    </tr>\n",
              "    <tr>\n",
              "      <th>18</th>\n",
              "      <td>FQ16</td>\n",
              "      <td>Borrowed money from friends, relatives, or fam...</td>\n",
              "    </tr>\n",
              "    <tr>\n",
              "      <th>19</th>\n",
              "      <td>FQ17</td>\n",
              "      <td>Borrowed money from an informal saving. I.e gr...</td>\n",
              "    </tr>\n",
              "    <tr>\n",
              "      <th>20</th>\n",
              "      <td>FQ18</td>\n",
              "      <td>What is the possibility of coming up with 1/20...</td>\n",
              "    </tr>\n",
              "    <tr>\n",
              "      <th>21</th>\n",
              "      <td>FQ19</td>\n",
              "      <td>Source of money for FQ18</td>\n",
              "    </tr>\n",
              "    <tr>\n",
              "      <th>22</th>\n",
              "      <td>FQ20</td>\n",
              "      <td>Sent/given money to friend/relative</td>\n",
              "    </tr>\n",
              "    <tr>\n",
              "      <th>23</th>\n",
              "      <td>FQ21</td>\n",
              "      <td>Received money from friend or relative</td>\n",
              "    </tr>\n",
              "    <tr>\n",
              "      <th>24</th>\n",
              "      <td>FQ22</td>\n",
              "      <td>Payments for electricity, water, or trash in t...</td>\n",
              "    </tr>\n",
              "    <tr>\n",
              "      <th>25</th>\n",
              "      <td>FQ23</td>\n",
              "      <td>salary/wages in the last 12 months</td>\n",
              "    </tr>\n",
              "    <tr>\n",
              "      <th>26</th>\n",
              "      <td>FQ24</td>\n",
              "      <td>Employed by government or public sector -12 mo...</td>\n",
              "    </tr>\n",
              "    <tr>\n",
              "      <th>27</th>\n",
              "      <td>FQ25</td>\n",
              "      <td>Received any form of financial support from th...</td>\n",
              "    </tr>\n",
              "    <tr>\n",
              "      <th>28</th>\n",
              "      <td>FQ26</td>\n",
              "      <td>Pension in the last 12 months</td>\n",
              "    </tr>\n",
              "    <tr>\n",
              "      <th>29</th>\n",
              "      <td>FQ27</td>\n",
              "      <td>Was the a/c you received money from the govern...</td>\n",
              "    </tr>\n",
              "    <tr>\n",
              "      <th>30</th>\n",
              "      <td>FQ28</td>\n",
              "      <td>Did you open the a/c to receive payments from ...</td>\n",
              "    </tr>\n",
              "    <tr>\n",
              "      <th>31</th>\n",
              "      <td>FQ29</td>\n",
              "      <td>Received money for the sale of livestock, agri...</td>\n",
              "    </tr>\n",
              "    <tr>\n",
              "      <th>32</th>\n",
              "      <td>FQ30</td>\n",
              "      <td>Was this your first a/c for transaction in FQ29</td>\n",
              "    </tr>\n",
              "    <tr>\n",
              "      <th>33</th>\n",
              "      <td>FQ31</td>\n",
              "      <td>Did you open the a/c to receive payments in FQ29</td>\n",
              "    </tr>\n",
              "    <tr>\n",
              "      <th>34</th>\n",
              "      <td>FQ32</td>\n",
              "      <td>Received money from your business in last 12 m...</td>\n",
              "    </tr>\n",
              "    <tr>\n",
              "      <th>35</th>\n",
              "      <td>FQ33</td>\n",
              "      <td>Owns a mobile phone</td>\n",
              "    </tr>\n",
              "    <tr>\n",
              "      <th>36</th>\n",
              "      <td>FQ34</td>\n",
              "      <td>Has national ID card</td>\n",
              "    </tr>\n",
              "    <tr>\n",
              "      <th>37</th>\n",
              "      <td>FQ35</td>\n",
              "      <td>Was the a/c you received money from your emplo...</td>\n",
              "    </tr>\n",
              "    <tr>\n",
              "      <th>38</th>\n",
              "      <td>FQ36</td>\n",
              "      <td>Did you open the a/c to receive the money in FQ36</td>\n",
              "    </tr>\n",
              "    <tr>\n",
              "      <th>39</th>\n",
              "      <td>FQ37</td>\n",
              "      <td>Owns a bank a/c</td>\n",
              "    </tr>\n",
              "    <tr>\n",
              "      <th>40</th>\n",
              "      <td>Target</td>\n",
              "      <td>Determine whether one has used mobile or inter...</td>\n",
              "    </tr>\n",
              "  </tbody>\n",
              "</table>\n",
              "</div>"
            ],
            "text/plain": [
              "              ID                Person unique/random identification\n",
              "0   country_code                                  The country codes\n",
              "1         region  Region_codes of a given country,.i.e., South A...\n",
              "2            age                                     Individual age\n",
              "3            FQ1                                 Has ATM/debit card\n",
              "4            FQ2  Is the ATM connected to an account with your n...\n",
              "5            FQ3                             Purchased with the ATM\n",
              "6            FQ4                                  Has a credit card\n",
              "7            FQ5                  Used the credit card in 12 months\n",
              "8            FQ6  Money deposits to a bank account in the last 1...\n",
              "9            FQ7  Money withdrawals from a bank account in the l...\n",
              "10           FQ7  Savings in the last 12 months to start a busin...\n",
              "11           FQ9          Savings in the last 12 months for old age\n",
              "12          FQ10   Saved the money at a bank/financial institutions\n",
              "13          FQ11  Save the money at groups/clubs of any informal...\n",
              "14          FQ12  Has a loan from formal financial institutions ...\n",
              "15          FQ13  Borrowed money for health/medical purposes in ...\n",
              "16          FQ14      Borrowed money to start/grow business or farm\n",
              "17          FQ15  Borrowed money from formal financial instituti...\n",
              "18          FQ16  Borrowed money from friends, relatives, or fam...\n",
              "19          FQ17  Borrowed money from an informal saving. I.e gr...\n",
              "20          FQ18  What is the possibility of coming up with 1/20...\n",
              "21          FQ19                           Source of money for FQ18\n",
              "22          FQ20                Sent/given money to friend/relative\n",
              "23          FQ21             Received money from friend or relative\n",
              "24          FQ22  Payments for electricity, water, or trash in t...\n",
              "25          FQ23                 salary/wages in the last 12 months\n",
              "26          FQ24  Employed by government or public sector -12 mo...\n",
              "27          FQ25  Received any form of financial support from th...\n",
              "28          FQ26                      Pension in the last 12 months\n",
              "29          FQ27  Was the a/c you received money from the govern...\n",
              "30          FQ28  Did you open the a/c to receive payments from ...\n",
              "31          FQ29  Received money for the sale of livestock, agri...\n",
              "32          FQ30    Was this your first a/c for transaction in FQ29\n",
              "33          FQ31   Did you open the a/c to receive payments in FQ29\n",
              "34          FQ32  Received money from your business in last 12 m...\n",
              "35          FQ33                                Owns a mobile phone\n",
              "36          FQ34                               Has national ID card\n",
              "37          FQ35  Was the a/c you received money from your emplo...\n",
              "38          FQ36  Did you open the a/c to receive the money in FQ36\n",
              "39          FQ37                                    Owns a bank a/c\n",
              "40        Target  Determine whether one has used mobile or inter..."
            ]
          },
          "metadata": {},
          "execution_count": 149
        }
      ]
    },
    {
      "cell_type": "code",
      "metadata": {
        "id": "m9DofsHHXy8Z"
      },
      "source": [
        "y=train['Target']\n",
        "del train['Target']\n"
      ],
      "execution_count": 150,
      "outputs": []
    },
    {
      "cell_type": "code",
      "metadata": {
        "colab": {
          "base_uri": "https://localhost:8080/"
        },
        "id": "9ZpPFfaGYG6m",
        "outputId": "7d8fb9fa-cbf8-4fa6-e677-2107913aab60"
      },
      "source": [
        "y.head()"
      ],
      "execution_count": 151,
      "outputs": [
        {
          "output_type": "execute_result",
          "data": {
            "text/plain": [
              "0    0\n",
              "1    0\n",
              "2    0\n",
              "3    0\n",
              "4    0\n",
              "Name: Target, dtype: int64"
            ]
          },
          "metadata": {},
          "execution_count": 151
        }
      ]
    },
    {
      "cell_type": "code",
      "metadata": {
        "id": "GW_Qk5tsYI_E"
      },
      "source": [
        "train['splitter']=\"train\"\n",
        "test['splitter']=\"test\""
      ],
      "execution_count": 152,
      "outputs": []
    },
    {
      "cell_type": "code",
      "metadata": {
        "id": "_jbtBocGYXvr"
      },
      "source": [
        "data=pd.concat([train,test]).reset_index(drop=True)"
      ],
      "execution_count": 153,
      "outputs": []
    },
    {
      "cell_type": "code",
      "metadata": {
        "colab": {
          "base_uri": "https://localhost:8080/",
          "height": 224
        },
        "id": "OB2Tb3g5YhGj",
        "outputId": "481fe3c3-348c-4157-e4f6-f6bc00834d8d"
      },
      "source": [
        "data.head()"
      ],
      "execution_count": 154,
      "outputs": [
        {
          "output_type": "execute_result",
          "data": {
            "text/html": [
              "<div>\n",
              "<style scoped>\n",
              "    .dataframe tbody tr th:only-of-type {\n",
              "        vertical-align: middle;\n",
              "    }\n",
              "\n",
              "    .dataframe tbody tr th {\n",
              "        vertical-align: top;\n",
              "    }\n",
              "\n",
              "    .dataframe thead th {\n",
              "        text-align: right;\n",
              "    }\n",
              "</style>\n",
              "<table border=\"1\" class=\"dataframe\">\n",
              "  <thead>\n",
              "    <tr style=\"text-align: right;\">\n",
              "      <th></th>\n",
              "      <th>ID</th>\n",
              "      <th>country_code</th>\n",
              "      <th>region</th>\n",
              "      <th>age</th>\n",
              "      <th>FQ1</th>\n",
              "      <th>FQ2</th>\n",
              "      <th>FQ3</th>\n",
              "      <th>FQ4</th>\n",
              "      <th>FQ5</th>\n",
              "      <th>FQ6</th>\n",
              "      <th>FQ7</th>\n",
              "      <th>FQ8</th>\n",
              "      <th>FQ9</th>\n",
              "      <th>FQ10</th>\n",
              "      <th>FQ11</th>\n",
              "      <th>FQ12</th>\n",
              "      <th>FQ13</th>\n",
              "      <th>FQ14</th>\n",
              "      <th>FQ15</th>\n",
              "      <th>FQ16</th>\n",
              "      <th>FQ17</th>\n",
              "      <th>FQ18</th>\n",
              "      <th>FQ19</th>\n",
              "      <th>FQ20</th>\n",
              "      <th>FQ21</th>\n",
              "      <th>FQ22</th>\n",
              "      <th>FQ23</th>\n",
              "      <th>FQ24</th>\n",
              "      <th>FQ35</th>\n",
              "      <th>FQ36</th>\n",
              "      <th>FQ25</th>\n",
              "      <th>FQ26</th>\n",
              "      <th>FQ27</th>\n",
              "      <th>FQ28</th>\n",
              "      <th>FQ29</th>\n",
              "      <th>FQ30</th>\n",
              "      <th>FQ31</th>\n",
              "      <th>FQ32</th>\n",
              "      <th>FQ33</th>\n",
              "      <th>FQ34</th>\n",
              "      <th>FQ37</th>\n",
              "      <th>splitter</th>\n",
              "    </tr>\n",
              "  </thead>\n",
              "  <tbody>\n",
              "    <tr>\n",
              "      <th>0</th>\n",
              "      <td>ID_000J8GTZ</td>\n",
              "      <td>1</td>\n",
              "      <td>6</td>\n",
              "      <td>35.0</td>\n",
              "      <td>2</td>\n",
              "      <td>NaN</td>\n",
              "      <td>NaN</td>\n",
              "      <td>2</td>\n",
              "      <td>NaN</td>\n",
              "      <td>NaN</td>\n",
              "      <td>1.0</td>\n",
              "      <td>2</td>\n",
              "      <td>1</td>\n",
              "      <td>1</td>\n",
              "      <td>2.0</td>\n",
              "      <td>2</td>\n",
              "      <td>2</td>\n",
              "      <td>2</td>\n",
              "      <td>2</td>\n",
              "      <td>2</td>\n",
              "      <td>NaN</td>\n",
              "      <td>2</td>\n",
              "      <td>4.0</td>\n",
              "      <td>2.0</td>\n",
              "      <td>1.0</td>\n",
              "      <td>1</td>\n",
              "      <td>2</td>\n",
              "      <td>NaN</td>\n",
              "      <td>1.0</td>\n",
              "      <td>NaN</td>\n",
              "      <td>2</td>\n",
              "      <td>2</td>\n",
              "      <td>NaN</td>\n",
              "      <td>NaN</td>\n",
              "      <td>1.0</td>\n",
              "      <td>NaN</td>\n",
              "      <td>NaN</td>\n",
              "      <td>NaN</td>\n",
              "      <td>1.0</td>\n",
              "      <td>1.0</td>\n",
              "      <td>0</td>\n",
              "      <td>train</td>\n",
              "    </tr>\n",
              "    <tr>\n",
              "      <th>1</th>\n",
              "      <td>ID_000QLXZM</td>\n",
              "      <td>32</td>\n",
              "      <td>7</td>\n",
              "      <td>70.0</td>\n",
              "      <td>2</td>\n",
              "      <td>NaN</td>\n",
              "      <td>NaN</td>\n",
              "      <td>2</td>\n",
              "      <td>NaN</td>\n",
              "      <td>NaN</td>\n",
              "      <td>1.0</td>\n",
              "      <td>2</td>\n",
              "      <td>2</td>\n",
              "      <td>2</td>\n",
              "      <td>2.0</td>\n",
              "      <td>2</td>\n",
              "      <td>2</td>\n",
              "      <td>2</td>\n",
              "      <td>2</td>\n",
              "      <td>2</td>\n",
              "      <td>NaN</td>\n",
              "      <td>1</td>\n",
              "      <td>3.0</td>\n",
              "      <td>2.0</td>\n",
              "      <td>1.0</td>\n",
              "      <td>1</td>\n",
              "      <td>2</td>\n",
              "      <td>NaN</td>\n",
              "      <td>NaN</td>\n",
              "      <td>NaN</td>\n",
              "      <td>1</td>\n",
              "      <td>1</td>\n",
              "      <td>NaN</td>\n",
              "      <td>NaN</td>\n",
              "      <td>2.0</td>\n",
              "      <td>NaN</td>\n",
              "      <td>NaN</td>\n",
              "      <td>NaN</td>\n",
              "      <td>1.0</td>\n",
              "      <td>2.0</td>\n",
              "      <td>0</td>\n",
              "      <td>train</td>\n",
              "    </tr>\n",
              "    <tr>\n",
              "      <th>2</th>\n",
              "      <td>ID_001728I2</td>\n",
              "      <td>71</td>\n",
              "      <td>7</td>\n",
              "      <td>22.0</td>\n",
              "      <td>2</td>\n",
              "      <td>1.0</td>\n",
              "      <td>NaN</td>\n",
              "      <td>2</td>\n",
              "      <td>NaN</td>\n",
              "      <td>NaN</td>\n",
              "      <td>1.0</td>\n",
              "      <td>2</td>\n",
              "      <td>2</td>\n",
              "      <td>2</td>\n",
              "      <td>4.0</td>\n",
              "      <td>2</td>\n",
              "      <td>2</td>\n",
              "      <td>1</td>\n",
              "      <td>2</td>\n",
              "      <td>1</td>\n",
              "      <td>NaN</td>\n",
              "      <td>1</td>\n",
              "      <td>NaN</td>\n",
              "      <td>2.0</td>\n",
              "      <td>2.0</td>\n",
              "      <td>1</td>\n",
              "      <td>2</td>\n",
              "      <td>NaN</td>\n",
              "      <td>NaN</td>\n",
              "      <td>NaN</td>\n",
              "      <td>2</td>\n",
              "      <td>1</td>\n",
              "      <td>NaN</td>\n",
              "      <td>NaN</td>\n",
              "      <td>2.0</td>\n",
              "      <td>NaN</td>\n",
              "      <td>NaN</td>\n",
              "      <td>NaN</td>\n",
              "      <td>2.0</td>\n",
              "      <td>1.0</td>\n",
              "      <td>1</td>\n",
              "      <td>train</td>\n",
              "    </tr>\n",
              "    <tr>\n",
              "      <th>3</th>\n",
              "      <td>ID_001R7IDN</td>\n",
              "      <td>48</td>\n",
              "      <td>3</td>\n",
              "      <td>27.0</td>\n",
              "      <td>1</td>\n",
              "      <td>NaN</td>\n",
              "      <td>NaN</td>\n",
              "      <td>2</td>\n",
              "      <td>NaN</td>\n",
              "      <td>2.0</td>\n",
              "      <td>NaN</td>\n",
              "      <td>2</td>\n",
              "      <td>1</td>\n",
              "      <td>1</td>\n",
              "      <td>2.0</td>\n",
              "      <td>2</td>\n",
              "      <td>2</td>\n",
              "      <td>2</td>\n",
              "      <td>2</td>\n",
              "      <td>2</td>\n",
              "      <td>NaN</td>\n",
              "      <td>1</td>\n",
              "      <td>1.0</td>\n",
              "      <td>1.0</td>\n",
              "      <td>NaN</td>\n",
              "      <td>1</td>\n",
              "      <td>2</td>\n",
              "      <td>NaN</td>\n",
              "      <td>NaN</td>\n",
              "      <td>NaN</td>\n",
              "      <td>2</td>\n",
              "      <td>2</td>\n",
              "      <td>NaN</td>\n",
              "      <td>NaN</td>\n",
              "      <td>NaN</td>\n",
              "      <td>NaN</td>\n",
              "      <td>NaN</td>\n",
              "      <td>2.0</td>\n",
              "      <td>1.0</td>\n",
              "      <td>1.0</td>\n",
              "      <td>1</td>\n",
              "      <td>train</td>\n",
              "    </tr>\n",
              "    <tr>\n",
              "      <th>4</th>\n",
              "      <td>ID_0029QKF8</td>\n",
              "      <td>25</td>\n",
              "      <td>0</td>\n",
              "      <td>79.0</td>\n",
              "      <td>2</td>\n",
              "      <td>NaN</td>\n",
              "      <td>NaN</td>\n",
              "      <td>2</td>\n",
              "      <td>NaN</td>\n",
              "      <td>NaN</td>\n",
              "      <td>NaN</td>\n",
              "      <td>2</td>\n",
              "      <td>2</td>\n",
              "      <td>1</td>\n",
              "      <td>2.0</td>\n",
              "      <td>2</td>\n",
              "      <td>2</td>\n",
              "      <td>2</td>\n",
              "      <td>2</td>\n",
              "      <td>1</td>\n",
              "      <td>NaN</td>\n",
              "      <td>1</td>\n",
              "      <td>NaN</td>\n",
              "      <td>2.0</td>\n",
              "      <td>2.0</td>\n",
              "      <td>1</td>\n",
              "      <td>1</td>\n",
              "      <td>2.0</td>\n",
              "      <td>NaN</td>\n",
              "      <td>1.0</td>\n",
              "      <td>2</td>\n",
              "      <td>2</td>\n",
              "      <td>NaN</td>\n",
              "      <td>NaN</td>\n",
              "      <td>2.0</td>\n",
              "      <td>NaN</td>\n",
              "      <td>NaN</td>\n",
              "      <td>2.0</td>\n",
              "      <td>1.0</td>\n",
              "      <td>1.0</td>\n",
              "      <td>1</td>\n",
              "      <td>train</td>\n",
              "    </tr>\n",
              "  </tbody>\n",
              "</table>\n",
              "</div>"
            ],
            "text/plain": [
              "            ID  country_code  region   age  FQ1  FQ2  FQ3  FQ4  FQ5  FQ6  FQ7  FQ8  FQ9  FQ10  FQ11  FQ12  FQ13  FQ14  FQ15  FQ16  FQ17  FQ18  FQ19  FQ20  FQ21  FQ22  FQ23  FQ24  FQ35  FQ36  FQ25  FQ26  FQ27  FQ28  FQ29  FQ30  FQ31  FQ32  FQ33  FQ34  FQ37 splitter\n",
              "0  ID_000J8GTZ             1       6  35.0    2  NaN  NaN    2  NaN  NaN  1.0    2    1     1   2.0     2     2     2     2     2   NaN     2   4.0   2.0   1.0     1     2   NaN   1.0   NaN     2     2   NaN   NaN   1.0   NaN   NaN   NaN   1.0   1.0     0    train\n",
              "1  ID_000QLXZM            32       7  70.0    2  NaN  NaN    2  NaN  NaN  1.0    2    2     2   2.0     2     2     2     2     2   NaN     1   3.0   2.0   1.0     1     2   NaN   NaN   NaN     1     1   NaN   NaN   2.0   NaN   NaN   NaN   1.0   2.0     0    train\n",
              "2  ID_001728I2            71       7  22.0    2  1.0  NaN    2  NaN  NaN  1.0    2    2     2   4.0     2     2     1     2     1   NaN     1   NaN   2.0   2.0     1     2   NaN   NaN   NaN     2     1   NaN   NaN   2.0   NaN   NaN   NaN   2.0   1.0     1    train\n",
              "3  ID_001R7IDN            48       3  27.0    1  NaN  NaN    2  NaN  2.0  NaN    2    1     1   2.0     2     2     2     2     2   NaN     1   1.0   1.0   NaN     1     2   NaN   NaN   NaN     2     2   NaN   NaN   NaN   NaN   NaN   2.0   1.0   1.0     1    train\n",
              "4  ID_0029QKF8            25       0  79.0    2  NaN  NaN    2  NaN  NaN  NaN    2    2     1   2.0     2     2     2     2     1   NaN     1   NaN   2.0   2.0     1     1   2.0   NaN   1.0     2     2   NaN   NaN   2.0   NaN   NaN   2.0   1.0   1.0     1    train"
            ]
          },
          "metadata": {},
          "execution_count": 154
        }
      ]
    },
    {
      "cell_type": "code",
      "metadata": {
        "colab": {
          "base_uri": "https://localhost:8080/"
        },
        "id": "DGw8C0DHYlrv",
        "outputId": "8688a08f-d438-4081-9cbd-5163dfa6ac87"
      },
      "source": [
        "data.isnull().sum()"
      ],
      "execution_count": 155,
      "outputs": [
        {
          "output_type": "execute_result",
          "data": {
            "text/plain": [
              "ID                   0\n",
              "country_code         0\n",
              "region               0\n",
              "age                451\n",
              "FQ1                  0\n",
              "FQ2              84998\n",
              "FQ3              88777\n",
              "FQ4                  0\n",
              "FQ5             124825\n",
              "FQ6              68386\n",
              "FQ7              68386\n",
              "FQ8                  0\n",
              "FQ9                  0\n",
              "FQ10                 0\n",
              "FQ11             35135\n",
              "FQ12                 0\n",
              "FQ13                 0\n",
              "FQ14                 0\n",
              "FQ15                 0\n",
              "FQ16                 0\n",
              "FQ17            138698\n",
              "FQ18                 0\n",
              "FQ19             67764\n",
              "FQ20             35135\n",
              "FQ21             35135\n",
              "FQ22                 0\n",
              "FQ23                 0\n",
              "FQ24             99926\n",
              "FQ35            117982\n",
              "FQ36            138540\n",
              "FQ25                 0\n",
              "FQ26                 0\n",
              "FQ27            150280\n",
              "FQ28            152786\n",
              "FQ29             35135\n",
              "FQ30            151932\n",
              "FQ31            153690\n",
              "FQ32             68127\n",
              "FQ33                 2\n",
              "FQ34             45135\n",
              "FQ37                 0\n",
              "splitter             0\n",
              "dtype: int64"
            ]
          },
          "metadata": {},
          "execution_count": 155
        }
      ]
    },
    {
      "cell_type": "code",
      "metadata": {
        "id": "7hg-JjxtdLcN"
      },
      "source": [
        "col=['age',\"FQ34\",\"FQ33\",\"FQ32\",\"FQ31\",\"FQ30\",\"FQ29\",\"FQ28\",\"FQ27\",\"FQ36\",\"FQ35\",\"FQ24\",\"FQ21\",\"FQ20\",\"FQ19\",\"FQ17\",\"FQ11\",\"FQ7\",\"FQ6\",\"FQ5\",\"FQ3\",\"FQ2\",\"age\"]"
      ],
      "execution_count": 156,
      "outputs": []
    },
    {
      "cell_type": "code",
      "metadata": {
        "id": "ZpaFX3tjbivG"
      },
      "source": [
        "for x in col:\n",
        "  data[x]=data[x].fillna(-1)"
      ],
      "execution_count": 157,
      "outputs": []
    },
    {
      "cell_type": "code",
      "metadata": {
        "colab": {
          "base_uri": "https://localhost:8080/",
          "height": 224
        },
        "id": "MafpACMpeoWb",
        "outputId": "b98f9678-29f3-4328-deef-6d6cf49ec5fc"
      },
      "source": [
        "data.head()"
      ],
      "execution_count": 158,
      "outputs": [
        {
          "output_type": "execute_result",
          "data": {
            "text/html": [
              "<div>\n",
              "<style scoped>\n",
              "    .dataframe tbody tr th:only-of-type {\n",
              "        vertical-align: middle;\n",
              "    }\n",
              "\n",
              "    .dataframe tbody tr th {\n",
              "        vertical-align: top;\n",
              "    }\n",
              "\n",
              "    .dataframe thead th {\n",
              "        text-align: right;\n",
              "    }\n",
              "</style>\n",
              "<table border=\"1\" class=\"dataframe\">\n",
              "  <thead>\n",
              "    <tr style=\"text-align: right;\">\n",
              "      <th></th>\n",
              "      <th>ID</th>\n",
              "      <th>country_code</th>\n",
              "      <th>region</th>\n",
              "      <th>age</th>\n",
              "      <th>FQ1</th>\n",
              "      <th>FQ2</th>\n",
              "      <th>FQ3</th>\n",
              "      <th>FQ4</th>\n",
              "      <th>FQ5</th>\n",
              "      <th>FQ6</th>\n",
              "      <th>FQ7</th>\n",
              "      <th>FQ8</th>\n",
              "      <th>FQ9</th>\n",
              "      <th>FQ10</th>\n",
              "      <th>FQ11</th>\n",
              "      <th>FQ12</th>\n",
              "      <th>FQ13</th>\n",
              "      <th>FQ14</th>\n",
              "      <th>FQ15</th>\n",
              "      <th>FQ16</th>\n",
              "      <th>FQ17</th>\n",
              "      <th>FQ18</th>\n",
              "      <th>FQ19</th>\n",
              "      <th>FQ20</th>\n",
              "      <th>FQ21</th>\n",
              "      <th>FQ22</th>\n",
              "      <th>FQ23</th>\n",
              "      <th>FQ24</th>\n",
              "      <th>FQ35</th>\n",
              "      <th>FQ36</th>\n",
              "      <th>FQ25</th>\n",
              "      <th>FQ26</th>\n",
              "      <th>FQ27</th>\n",
              "      <th>FQ28</th>\n",
              "      <th>FQ29</th>\n",
              "      <th>FQ30</th>\n",
              "      <th>FQ31</th>\n",
              "      <th>FQ32</th>\n",
              "      <th>FQ33</th>\n",
              "      <th>FQ34</th>\n",
              "      <th>FQ37</th>\n",
              "      <th>splitter</th>\n",
              "    </tr>\n",
              "  </thead>\n",
              "  <tbody>\n",
              "    <tr>\n",
              "      <th>0</th>\n",
              "      <td>ID_000J8GTZ</td>\n",
              "      <td>1</td>\n",
              "      <td>6</td>\n",
              "      <td>35.0</td>\n",
              "      <td>2</td>\n",
              "      <td>-1.0</td>\n",
              "      <td>-1.0</td>\n",
              "      <td>2</td>\n",
              "      <td>-1.0</td>\n",
              "      <td>-1.0</td>\n",
              "      <td>1.0</td>\n",
              "      <td>2</td>\n",
              "      <td>1</td>\n",
              "      <td>1</td>\n",
              "      <td>2.0</td>\n",
              "      <td>2</td>\n",
              "      <td>2</td>\n",
              "      <td>2</td>\n",
              "      <td>2</td>\n",
              "      <td>2</td>\n",
              "      <td>-1.0</td>\n",
              "      <td>2</td>\n",
              "      <td>4.0</td>\n",
              "      <td>2.0</td>\n",
              "      <td>1.0</td>\n",
              "      <td>1</td>\n",
              "      <td>2</td>\n",
              "      <td>-1.0</td>\n",
              "      <td>1.0</td>\n",
              "      <td>-1.0</td>\n",
              "      <td>2</td>\n",
              "      <td>2</td>\n",
              "      <td>-1.0</td>\n",
              "      <td>-1.0</td>\n",
              "      <td>1.0</td>\n",
              "      <td>-1.0</td>\n",
              "      <td>-1.0</td>\n",
              "      <td>-1.0</td>\n",
              "      <td>1.0</td>\n",
              "      <td>1.0</td>\n",
              "      <td>0</td>\n",
              "      <td>train</td>\n",
              "    </tr>\n",
              "    <tr>\n",
              "      <th>1</th>\n",
              "      <td>ID_000QLXZM</td>\n",
              "      <td>32</td>\n",
              "      <td>7</td>\n",
              "      <td>70.0</td>\n",
              "      <td>2</td>\n",
              "      <td>-1.0</td>\n",
              "      <td>-1.0</td>\n",
              "      <td>2</td>\n",
              "      <td>-1.0</td>\n",
              "      <td>-1.0</td>\n",
              "      <td>1.0</td>\n",
              "      <td>2</td>\n",
              "      <td>2</td>\n",
              "      <td>2</td>\n",
              "      <td>2.0</td>\n",
              "      <td>2</td>\n",
              "      <td>2</td>\n",
              "      <td>2</td>\n",
              "      <td>2</td>\n",
              "      <td>2</td>\n",
              "      <td>-1.0</td>\n",
              "      <td>1</td>\n",
              "      <td>3.0</td>\n",
              "      <td>2.0</td>\n",
              "      <td>1.0</td>\n",
              "      <td>1</td>\n",
              "      <td>2</td>\n",
              "      <td>-1.0</td>\n",
              "      <td>-1.0</td>\n",
              "      <td>-1.0</td>\n",
              "      <td>1</td>\n",
              "      <td>1</td>\n",
              "      <td>-1.0</td>\n",
              "      <td>-1.0</td>\n",
              "      <td>2.0</td>\n",
              "      <td>-1.0</td>\n",
              "      <td>-1.0</td>\n",
              "      <td>-1.0</td>\n",
              "      <td>1.0</td>\n",
              "      <td>2.0</td>\n",
              "      <td>0</td>\n",
              "      <td>train</td>\n",
              "    </tr>\n",
              "    <tr>\n",
              "      <th>2</th>\n",
              "      <td>ID_001728I2</td>\n",
              "      <td>71</td>\n",
              "      <td>7</td>\n",
              "      <td>22.0</td>\n",
              "      <td>2</td>\n",
              "      <td>1.0</td>\n",
              "      <td>-1.0</td>\n",
              "      <td>2</td>\n",
              "      <td>-1.0</td>\n",
              "      <td>-1.0</td>\n",
              "      <td>1.0</td>\n",
              "      <td>2</td>\n",
              "      <td>2</td>\n",
              "      <td>2</td>\n",
              "      <td>4.0</td>\n",
              "      <td>2</td>\n",
              "      <td>2</td>\n",
              "      <td>1</td>\n",
              "      <td>2</td>\n",
              "      <td>1</td>\n",
              "      <td>-1.0</td>\n",
              "      <td>1</td>\n",
              "      <td>-1.0</td>\n",
              "      <td>2.0</td>\n",
              "      <td>2.0</td>\n",
              "      <td>1</td>\n",
              "      <td>2</td>\n",
              "      <td>-1.0</td>\n",
              "      <td>-1.0</td>\n",
              "      <td>-1.0</td>\n",
              "      <td>2</td>\n",
              "      <td>1</td>\n",
              "      <td>-1.0</td>\n",
              "      <td>-1.0</td>\n",
              "      <td>2.0</td>\n",
              "      <td>-1.0</td>\n",
              "      <td>-1.0</td>\n",
              "      <td>-1.0</td>\n",
              "      <td>2.0</td>\n",
              "      <td>1.0</td>\n",
              "      <td>1</td>\n",
              "      <td>train</td>\n",
              "    </tr>\n",
              "    <tr>\n",
              "      <th>3</th>\n",
              "      <td>ID_001R7IDN</td>\n",
              "      <td>48</td>\n",
              "      <td>3</td>\n",
              "      <td>27.0</td>\n",
              "      <td>1</td>\n",
              "      <td>-1.0</td>\n",
              "      <td>-1.0</td>\n",
              "      <td>2</td>\n",
              "      <td>-1.0</td>\n",
              "      <td>2.0</td>\n",
              "      <td>-1.0</td>\n",
              "      <td>2</td>\n",
              "      <td>1</td>\n",
              "      <td>1</td>\n",
              "      <td>2.0</td>\n",
              "      <td>2</td>\n",
              "      <td>2</td>\n",
              "      <td>2</td>\n",
              "      <td>2</td>\n",
              "      <td>2</td>\n",
              "      <td>-1.0</td>\n",
              "      <td>1</td>\n",
              "      <td>1.0</td>\n",
              "      <td>1.0</td>\n",
              "      <td>-1.0</td>\n",
              "      <td>1</td>\n",
              "      <td>2</td>\n",
              "      <td>-1.0</td>\n",
              "      <td>-1.0</td>\n",
              "      <td>-1.0</td>\n",
              "      <td>2</td>\n",
              "      <td>2</td>\n",
              "      <td>-1.0</td>\n",
              "      <td>-1.0</td>\n",
              "      <td>-1.0</td>\n",
              "      <td>-1.0</td>\n",
              "      <td>-1.0</td>\n",
              "      <td>2.0</td>\n",
              "      <td>1.0</td>\n",
              "      <td>1.0</td>\n",
              "      <td>1</td>\n",
              "      <td>train</td>\n",
              "    </tr>\n",
              "    <tr>\n",
              "      <th>4</th>\n",
              "      <td>ID_0029QKF8</td>\n",
              "      <td>25</td>\n",
              "      <td>0</td>\n",
              "      <td>79.0</td>\n",
              "      <td>2</td>\n",
              "      <td>-1.0</td>\n",
              "      <td>-1.0</td>\n",
              "      <td>2</td>\n",
              "      <td>-1.0</td>\n",
              "      <td>-1.0</td>\n",
              "      <td>-1.0</td>\n",
              "      <td>2</td>\n",
              "      <td>2</td>\n",
              "      <td>1</td>\n",
              "      <td>2.0</td>\n",
              "      <td>2</td>\n",
              "      <td>2</td>\n",
              "      <td>2</td>\n",
              "      <td>2</td>\n",
              "      <td>1</td>\n",
              "      <td>-1.0</td>\n",
              "      <td>1</td>\n",
              "      <td>-1.0</td>\n",
              "      <td>2.0</td>\n",
              "      <td>2.0</td>\n",
              "      <td>1</td>\n",
              "      <td>1</td>\n",
              "      <td>2.0</td>\n",
              "      <td>-1.0</td>\n",
              "      <td>1.0</td>\n",
              "      <td>2</td>\n",
              "      <td>2</td>\n",
              "      <td>-1.0</td>\n",
              "      <td>-1.0</td>\n",
              "      <td>2.0</td>\n",
              "      <td>-1.0</td>\n",
              "      <td>-1.0</td>\n",
              "      <td>2.0</td>\n",
              "      <td>1.0</td>\n",
              "      <td>1.0</td>\n",
              "      <td>1</td>\n",
              "      <td>train</td>\n",
              "    </tr>\n",
              "  </tbody>\n",
              "</table>\n",
              "</div>"
            ],
            "text/plain": [
              "            ID  country_code  region   age  FQ1  FQ2  FQ3  FQ4  FQ5  FQ6  FQ7  FQ8  FQ9  FQ10  FQ11  FQ12  FQ13  FQ14  FQ15  FQ16  FQ17  FQ18  FQ19  FQ20  FQ21  FQ22  FQ23  FQ24  FQ35  FQ36  FQ25  FQ26  FQ27  FQ28  FQ29  FQ30  FQ31  FQ32  FQ33  FQ34  FQ37 splitter\n",
              "0  ID_000J8GTZ             1       6  35.0    2 -1.0 -1.0    2 -1.0 -1.0  1.0    2    1     1   2.0     2     2     2     2     2  -1.0     2   4.0   2.0   1.0     1     2  -1.0   1.0  -1.0     2     2  -1.0  -1.0   1.0  -1.0  -1.0  -1.0   1.0   1.0     0    train\n",
              "1  ID_000QLXZM            32       7  70.0    2 -1.0 -1.0    2 -1.0 -1.0  1.0    2    2     2   2.0     2     2     2     2     2  -1.0     1   3.0   2.0   1.0     1     2  -1.0  -1.0  -1.0     1     1  -1.0  -1.0   2.0  -1.0  -1.0  -1.0   1.0   2.0     0    train\n",
              "2  ID_001728I2            71       7  22.0    2  1.0 -1.0    2 -1.0 -1.0  1.0    2    2     2   4.0     2     2     1     2     1  -1.0     1  -1.0   2.0   2.0     1     2  -1.0  -1.0  -1.0     2     1  -1.0  -1.0   2.0  -1.0  -1.0  -1.0   2.0   1.0     1    train\n",
              "3  ID_001R7IDN            48       3  27.0    1 -1.0 -1.0    2 -1.0  2.0 -1.0    2    1     1   2.0     2     2     2     2     2  -1.0     1   1.0   1.0  -1.0     1     2  -1.0  -1.0  -1.0     2     2  -1.0  -1.0  -1.0  -1.0  -1.0   2.0   1.0   1.0     1    train\n",
              "4  ID_0029QKF8            25       0  79.0    2 -1.0 -1.0    2 -1.0 -1.0 -1.0    2    2     1   2.0     2     2     2     2     1  -1.0     1  -1.0   2.0   2.0     1     1   2.0  -1.0   1.0     2     2  -1.0  -1.0   2.0  -1.0  -1.0   2.0   1.0   1.0     1    train"
            ]
          },
          "metadata": {},
          "execution_count": 158
        }
      ]
    },
    {
      "cell_type": "code",
      "metadata": {
        "colab": {
          "base_uri": "https://localhost:8080/"
        },
        "id": "AAR_zMrvb8M_",
        "outputId": "1b58caa4-8b2e-43b6-cec7-aeb1da27822e"
      },
      "source": [
        "data.isnull().sum()\n"
      ],
      "execution_count": 159,
      "outputs": [
        {
          "output_type": "execute_result",
          "data": {
            "text/plain": [
              "ID              0\n",
              "country_code    0\n",
              "region          0\n",
              "age             0\n",
              "FQ1             0\n",
              "FQ2             0\n",
              "FQ3             0\n",
              "FQ4             0\n",
              "FQ5             0\n",
              "FQ6             0\n",
              "FQ7             0\n",
              "FQ8             0\n",
              "FQ9             0\n",
              "FQ10            0\n",
              "FQ11            0\n",
              "FQ12            0\n",
              "FQ13            0\n",
              "FQ14            0\n",
              "FQ15            0\n",
              "FQ16            0\n",
              "FQ17            0\n",
              "FQ18            0\n",
              "FQ19            0\n",
              "FQ20            0\n",
              "FQ21            0\n",
              "FQ22            0\n",
              "FQ23            0\n",
              "FQ24            0\n",
              "FQ35            0\n",
              "FQ36            0\n",
              "FQ25            0\n",
              "FQ26            0\n",
              "FQ27            0\n",
              "FQ28            0\n",
              "FQ29            0\n",
              "FQ30            0\n",
              "FQ31            0\n",
              "FQ32            0\n",
              "FQ33            0\n",
              "FQ34            0\n",
              "FQ37            0\n",
              "splitter        0\n",
              "dtype: int64"
            ]
          },
          "metadata": {},
          "execution_count": 159
        }
      ]
    },
    {
      "cell_type": "code",
      "metadata": {
        "id": "4uhz-zKfcNH4"
      },
      "source": [
        "train=data[data['splitter']==\"train\"]\n",
        "test=data[data['splitter']==\"test\"]\n"
      ],
      "execution_count": 160,
      "outputs": []
    },
    {
      "cell_type": "code",
      "metadata": {
        "colab": {
          "base_uri": "https://localhost:8080/"
        },
        "id": "YpQA1KzEfFmk",
        "outputId": "f8799bc7-6ac7-4ea9-aba1-164468d7594d"
      },
      "source": [
        "train.shape,test.shape "
      ],
      "execution_count": 161,
      "outputs": [
        {
          "output_type": "execute_result",
          "data": {
            "text/plain": [
              "((108446, 42), (46477, 42))"
            ]
          },
          "metadata": {},
          "execution_count": 161
        }
      ]
    },
    {
      "cell_type": "code",
      "metadata": {
        "id": "P8iD7oaVfJcB"
      },
      "source": [
        "del train['ID']\n",
        "del train['splitter']\n",
        "del test['ID']\n",
        "del test['splitter']"
      ],
      "execution_count": 162,
      "outputs": []
    },
    {
      "cell_type": "code",
      "metadata": {
        "colab": {
          "base_uri": "https://localhost:8080/"
        },
        "id": "swkdWj4RfhoO",
        "outputId": "a49bbb40-60db-464f-e0f7-4a1521c705f5"
      },
      "source": [
        "train.shape,test.shape "
      ],
      "execution_count": 163,
      "outputs": [
        {
          "output_type": "execute_result",
          "data": {
            "text/plain": [
              "((108446, 40), (46477, 40))"
            ]
          },
          "metadata": {},
          "execution_count": 163
        }
      ]
    },
    {
      "cell_type": "code",
      "metadata": {
        "id": "sZEX1nj8gJ_2"
      },
      "source": [
        "from sklearn.model_selection import train_test_split\n",
        "x_train,x_test,y_train,y_test=train_test_split(train,y,random_state=42,test_size=0.1)"
      ],
      "execution_count": 164,
      "outputs": []
    },
    {
      "cell_type": "code",
      "metadata": {
        "id": "5zDC-wPFgctf"
      },
      "source": [
        "from sklearn.preprocessing import MinMaxScaler\n",
        "scaler=MinMaxScaler()\n",
        "x_train=scaler.fit_transform(x_train)\n",
        "x_test=scaler.transform(x_test)"
      ],
      "execution_count": 165,
      "outputs": []
    },
    {
      "cell_type": "code",
      "metadata": {
        "colab": {
          "base_uri": "https://localhost:8080/"
        },
        "id": "SeKlbGlZnNr7",
        "outputId": "00227831-0a1f-434d-fbef-39f8d3caea92"
      },
      "source": [
        "x_train.shape "
      ],
      "execution_count": 166,
      "outputs": [
        {
          "output_type": "execute_result",
          "data": {
            "text/plain": [
              "(97601, 40)"
            ]
          },
          "metadata": {},
          "execution_count": 166
        }
      ]
    },
    {
      "cell_type": "code",
      "metadata": {
        "id": "RZpcpqBwhvjv"
      },
      "source": [
        "import keras \n",
        "from keras.models import Sequential\n",
        "from keras.layers import Dense \n",
        "from keras.layers import Dropout\n"
      ],
      "execution_count": 167,
      "outputs": []
    },
    {
      "cell_type": "code",
      "metadata": {
        "id": "8T2Ty0yYlr85"
      },
      "source": [
        "model=Sequential() #initialize the instance of the model\n",
        "#creating the first hidden layer\n",
        "model.add(Dense(input_dim=40,kernel_initializer=\"he_uniform\",activation=\"relu\",units=20))\n",
        "model.add(Dropout(0.3))\n",
        "#creating the second hidden layer \n",
        "model.add(Dense(kernel_initializer=\"he_uniform\",activation=\"relu\",units=20))\n",
        "model.add(Dropout(0.5))\n",
        "#creating the third hidden layer\n",
        "model.add(Dense(kernel_initializer=\"he_uniform\",activation=\"relu\",units=20))\n",
        "model.add(Dropout(0.7))\n",
        "#creating the output layer \n",
        "model.add(Dense(kernel_initializer=\"glorot_uniform\",activation=\"sigmoid\",units=1))\n"
      ],
      "execution_count": 168,
      "outputs": []
    },
    {
      "cell_type": "code",
      "metadata": {
        "colab": {
          "base_uri": "https://localhost:8080/"
        },
        "id": "Q_A87B9Unrn4",
        "outputId": "3e2c3326-00c5-4c7d-90de-d98f1c6f7729"
      },
      "source": [
        "model.summary()"
      ],
      "execution_count": 169,
      "outputs": [
        {
          "output_type": "stream",
          "name": "stdout",
          "text": [
            "Model: \"sequential_7\"\n",
            "_________________________________________________________________\n",
            "Layer (type)                 Output Shape              Param #   \n",
            "=================================================================\n",
            "dense_12 (Dense)             (None, 20)                820       \n",
            "_________________________________________________________________\n",
            "dropout_3 (Dropout)          (None, 20)                0         \n",
            "_________________________________________________________________\n",
            "dense_13 (Dense)             (None, 20)                420       \n",
            "_________________________________________________________________\n",
            "dropout_4 (Dropout)          (None, 20)                0         \n",
            "_________________________________________________________________\n",
            "dense_14 (Dense)             (None, 20)                420       \n",
            "_________________________________________________________________\n",
            "dropout_5 (Dropout)          (None, 20)                0         \n",
            "_________________________________________________________________\n",
            "dense_15 (Dense)             (None, 1)                 21        \n",
            "=================================================================\n",
            "Total params: 1,681\n",
            "Trainable params: 1,681\n",
            "Non-trainable params: 0\n",
            "_________________________________________________________________\n"
          ]
        }
      ]
    },
    {
      "cell_type": "code",
      "metadata": {
        "id": "CSoSXfV0rGAf"
      },
      "source": [
        "model.compile(optimizer=\"adam\",loss=\"binary_crossentropy\",metrics=['accuracy'])"
      ],
      "execution_count": 170,
      "outputs": []
    },
    {
      "cell_type": "code",
      "metadata": {
        "colab": {
          "base_uri": "https://localhost:8080/"
        },
        "id": "VUx_XcaVr8Sm",
        "outputId": "b0f0917c-fa4e-4286-fe7b-ded6ed8354b9"
      },
      "source": [
        "model_history=model.fit(x_train,y_train,validation_split=0.3,batch_size=30,epochs=10)"
      ],
      "execution_count": 171,
      "outputs": [
        {
          "output_type": "stream",
          "name": "stdout",
          "text": [
            "Epoch 1/10\n",
            "2278/2278 [==============================] - 11s 4ms/step - loss: 0.6000 - accuracy: 0.7223 - val_loss: 0.5849 - val_accuracy: 0.7286\n",
            "Epoch 2/10\n",
            "2278/2278 [==============================] - 10s 4ms/step - loss: 0.5884 - accuracy: 0.7263 - val_loss: 0.5848 - val_accuracy: 0.7286\n",
            "Epoch 3/10\n",
            "2278/2278 [==============================] - 10s 4ms/step - loss: 0.5873 - accuracy: 0.7263 - val_loss: 0.5847 - val_accuracy: 0.7286\n",
            "Epoch 4/10\n",
            "2278/2278 [==============================] - 10s 4ms/step - loss: 0.5872 - accuracy: 0.7263 - val_loss: 0.5847 - val_accuracy: 0.7286\n",
            "Epoch 5/10\n",
            "2278/2278 [==============================] - 11s 5ms/step - loss: 0.5870 - accuracy: 0.7263 - val_loss: 0.5846 - val_accuracy: 0.7286\n",
            "Epoch 6/10\n",
            "2278/2278 [==============================] - 10s 4ms/step - loss: 0.5870 - accuracy: 0.7263 - val_loss: 0.5847 - val_accuracy: 0.7286\n",
            "Epoch 7/10\n",
            "2278/2278 [==============================] - 10s 4ms/step - loss: 0.5870 - accuracy: 0.7263 - val_loss: 0.5847 - val_accuracy: 0.7286\n",
            "Epoch 8/10\n",
            "2278/2278 [==============================] - 11s 5ms/step - loss: 0.5869 - accuracy: 0.7263 - val_loss: 0.5847 - val_accuracy: 0.7286\n",
            "Epoch 9/10\n",
            "2278/2278 [==============================] - 10s 4ms/step - loss: 0.5869 - accuracy: 0.7263 - val_loss: 0.5847 - val_accuracy: 0.7286\n",
            "Epoch 10/10\n",
            "2278/2278 [==============================] - 10s 4ms/step - loss: 0.5869 - accuracy: 0.7263 - val_loss: 0.5847 - val_accuracy: 0.7286\n"
          ]
        }
      ]
    },
    {
      "cell_type": "code",
      "metadata": {
        "colab": {
          "base_uri": "https://localhost:8080/"
        },
        "id": "Jop6apMWuzNz",
        "outputId": "767092ce-0922-4ce0-c89e-a390f02615c2"
      },
      "source": [
        "print(model_history.history.keys())"
      ],
      "execution_count": 172,
      "outputs": [
        {
          "output_type": "stream",
          "name": "stdout",
          "text": [
            "dict_keys(['loss', 'accuracy', 'val_loss', 'val_accuracy'])\n"
          ]
        }
      ]
    },
    {
      "cell_type": "code",
      "metadata": {
        "colab": {
          "base_uri": "https://localhost:8080/"
        },
        "id": "2pevBTyJvEkh",
        "outputId": "8bb0c2de-7ae6-47fc-c49b-6031e9c5adb0"
      },
      "source": [
        "model_history.history.keys()"
      ],
      "execution_count": 173,
      "outputs": [
        {
          "output_type": "execute_result",
          "data": {
            "text/plain": [
              "dict_keys(['loss', 'accuracy', 'val_loss', 'val_accuracy'])"
            ]
          },
          "metadata": {},
          "execution_count": 173
        }
      ]
    },
    {
      "cell_type": "code",
      "metadata": {
        "colab": {
          "base_uri": "https://localhost:8080/",
          "height": 295
        },
        "id": "dxVQ1x79vJoq",
        "outputId": "5b533b65-dcbb-44d1-9592-3726a3c44201"
      },
      "source": [
        "plt.plot(model_history.history['loss'])\n",
        "plt.plot(model_history.history['val_loss'])\n",
        "plt.title(\"Model Loss graph\")\n",
        "plt.ylabel(\"loss\")\n",
        "plt.xlabel(\"epoch\")\n",
        "plt.legend(['train','test'],loc=\"upper left\")\n",
        "plt.show()"
      ],
      "execution_count": 174,
      "outputs": [
        {
          "output_type": "display_data",
          "data": {
            "image/png": "[encoded data removed]",
            "text/plain": [
              "<Figure size 432x288 with 1 Axes>"
            ]
          },
          "metadata": {
            "needs_background": "light"
          }
        }
      ]
    },
    {
      "cell_type": "code",
      "metadata": {
        "colab": {
          "base_uri": "https://localhost:8080/",
          "height": 69
        },
        "id": "q-oj4_e8wfFg",
        "outputId": "08887353-beb9-4091-8d53-91bd18e941c7"
      },
      "source": [
        "'''\n",
        "plt.plot(model_history.history['accuracy'])\n",
        "plt.plot(model_history.history['val_accuracy'])\n",
        "plt.title(\"Accuracy of the model\")\n",
        "plt.ylabel(\"Accuracy\")\n",
        "plt.xlabel(\"epoch\")\n",
        "plt.legend(['train','test'],loc=['upper left'])\n",
        "plt.show()\n",
        "\n",
        "'''\n"
      ],
      "execution_count": 175,
      "outputs": [
        {
          "output_type": "execute_result",
          "data": {
            "application/vnd.google.colaboratory.intrinsic+json": {
              "type": "string"
            },
            "text/plain": [
              "'\\nplt.plot(model_history.history[\\'accuracy\\'])\\nplt.plot(model_history.history[\\'val_accuracy\\'])\\nplt.title(\"Accuracy of the model\")\\nplt.ylabel(\"Accuracy\")\\nplt.xlabel(\"epoch\")\\nplt.legend([\\'train\\',\\'test\\'],loc=[\\'upper left\\'])\\nplt.show()\\n\\n'"
            ]
          },
          "metadata": {},
          "execution_count": 175
        }
      ]
    },
    {
      "cell_type": "code",
      "metadata": {
        "id": "1TmBg5dExOu9"
      },
      "source": [
        "y_preds=model.predict(x_test)"
      ],
      "execution_count": 176,
      "outputs": []
    },
    {
      "cell_type": "code",
      "metadata": {
        "id": "ava61IEq1X3G"
      },
      "source": [
        ""
      ],
      "execution_count": 176,
      "outputs": []
    },
    {
      "cell_type": "code",
      "metadata": {
        "id": "vE6vEdPA1i2y"
      },
      "source": [
        "#from sklearn.metrics import roc_auc_score\n",
        "#score=score(y_preds,y_test)"
      ],
      "execution_count": 178,
      "outputs": []
    },
    {
      "cell_type": "code",
      "metadata": {
        "colab": {
          "base_uri": "https://localhost:8080/"
        },
        "id": "8oz1-kFQ11A0",
        "outputId": "a7af0d27-28b6-468f-bcef-656ec7805731"
      },
      "source": [
        "score"
      ],
      "execution_count": 179,
      "outputs": [
        {
          "output_type": "execute_result",
          "data": {
            "text/plain": [
              "0.5039559039707784"
            ]
          },
          "metadata": {},
          "execution_count": 179
        }
      ]
    },
    {
      "cell_type": "code",
      "metadata": {
        "id": "skvzrYwa11l7"
      },
      "source": [
        "prediction=model.predict(test)"
      ],
      "execution_count": 180,
      "outputs": []
    },
    {
      "cell_type": "code",
      "metadata": {
        "colab": {
          "base_uri": "https://localhost:8080/",
          "height": 204
        },
        "id": "PuP_UDEi2DUu",
        "outputId": "10224d70-b55b-4980-b7a8-15b17467692f"
      },
      "source": [
        "prediction=pd.DataFrame(prediction)\n",
        "prediction.head()"
      ],
      "execution_count": 181,
      "outputs": [
        {
          "output_type": "execute_result",
          "data": {
            "text/html": [
              "<div>\n",
              "<style scoped>\n",
              "    .dataframe tbody tr th:only-of-type {\n",
              "        vertical-align: middle;\n",
              "    }\n",
              "\n",
              "    .dataframe tbody tr th {\n",
              "        vertical-align: top;\n",
              "    }\n",
              "\n",
              "    .dataframe thead th {\n",
              "        text-align: right;\n",
              "    }\n",
              "</style>\n",
              "<table border=\"1\" class=\"dataframe\">\n",
              "  <thead>\n",
              "    <tr style=\"text-align: right;\">\n",
              "      <th></th>\n",
              "      <th>0</th>\n",
              "    </tr>\n",
              "  </thead>\n",
              "  <tbody>\n",
              "    <tr>\n",
              "      <th>0</th>\n",
              "      <td>0.199721</td>\n",
              "    </tr>\n",
              "    <tr>\n",
              "      <th>1</th>\n",
              "      <td>0.062498</td>\n",
              "    </tr>\n",
              "    <tr>\n",
              "      <th>2</th>\n",
              "      <td>0.118456</td>\n",
              "    </tr>\n",
              "    <tr>\n",
              "      <th>3</th>\n",
              "      <td>0.071406</td>\n",
              "    </tr>\n",
              "    <tr>\n",
              "      <th>4</th>\n",
              "      <td>0.190643</td>\n",
              "    </tr>\n",
              "  </tbody>\n",
              "</table>\n",
              "</div>"
            ],
            "text/plain": [
              "          0\n",
              "0  0.199721\n",
              "1  0.062498\n",
              "2  0.118456\n",
              "3  0.071406\n",
              "4  0.190643"
            ]
          },
          "metadata": {},
          "execution_count": 181
        }
      ]
    },
    {
      "cell_type": "code",
      "metadata": {
        "colab": {
          "base_uri": "https://localhost:8080/",
          "height": 204
        },
        "id": "qJ8-XQja2hne",
        "outputId": "e2c16a1f-f01e-43f4-e374-d50b30e8f9f2"
      },
      "source": [
        "ss.head()"
      ],
      "execution_count": 182,
      "outputs": [
        {
          "output_type": "execute_result",
          "data": {
            "text/html": [
              "<div>\n",
              "<style scoped>\n",
              "    .dataframe tbody tr th:only-of-type {\n",
              "        vertical-align: middle;\n",
              "    }\n",
              "\n",
              "    .dataframe tbody tr th {\n",
              "        vertical-align: top;\n",
              "    }\n",
              "\n",
              "    .dataframe thead th {\n",
              "        text-align: right;\n",
              "    }\n",
              "</style>\n",
              "<table border=\"1\" class=\"dataframe\">\n",
              "  <thead>\n",
              "    <tr style=\"text-align: right;\">\n",
              "      <th></th>\n",
              "      <th>ID</th>\n",
              "      <th>Target</th>\n",
              "    </tr>\n",
              "  </thead>\n",
              "  <tbody>\n",
              "    <tr>\n",
              "      <th>0</th>\n",
              "      <td>ID_000YI58E</td>\n",
              "      <td>NaN</td>\n",
              "    </tr>\n",
              "    <tr>\n",
              "      <th>1</th>\n",
              "      <td>ID_001SP4JF</td>\n",
              "      <td>NaN</td>\n",
              "    </tr>\n",
              "    <tr>\n",
              "      <th>2</th>\n",
              "      <td>ID_001VOF6S</td>\n",
              "      <td>NaN</td>\n",
              "    </tr>\n",
              "    <tr>\n",
              "      <th>3</th>\n",
              "      <td>ID_0030LULG</td>\n",
              "      <td>NaN</td>\n",
              "    </tr>\n",
              "    <tr>\n",
              "      <th>4</th>\n",
              "      <td>ID_0037PZ3R</td>\n",
              "      <td>NaN</td>\n",
              "    </tr>\n",
              "  </tbody>\n",
              "</table>\n",
              "</div>"
            ],
            "text/plain": [
              "            ID  Target\n",
              "0  ID_000YI58E     NaN\n",
              "1  ID_001SP4JF     NaN\n",
              "2  ID_001VOF6S     NaN\n",
              "3  ID_0030LULG     NaN\n",
              "4  ID_0037PZ3R     NaN"
            ]
          },
          "metadata": {},
          "execution_count": 182
        }
      ]
    },
    {
      "cell_type": "code",
      "metadata": {
        "id": "y8NfupjS2jm7"
      },
      "source": [
        "ss['Target']=prediction"
      ],
      "execution_count": 183,
      "outputs": []
    },
    {
      "cell_type": "code",
      "metadata": {
        "id": "MjOvnses2mal"
      },
      "source": [
        "ss.to_csv(\"innocheck_deep_nerual_version2.csv\",index=False)"
      ],
      "execution_count": 184,
      "outputs": []
    },
    {
      "cell_type": "code",
      "metadata": {
        "colab": {
          "base_uri": "https://localhost:8080/"
        },
        "id": "XgzhuUHH2tdr",
        "outputId": "90aee402-ac2e-4f67-f676-8f59987da22b"
      },
      "source": [
        "ss.shape "
      ],
      "execution_count": 185,
      "outputs": [
        {
          "output_type": "execute_result",
          "data": {
            "text/plain": [
              "(46477, 2)"
            ]
          },
          "metadata": {},
          "execution_count": 185
        }
      ]
    }
  ]
}